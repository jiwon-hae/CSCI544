{
 "nbformat": 4,
 "nbformat_minor": 0,
 "metadata": {
  "colab": {
   "provenance": [],
   "include_colab_link": true
  },
  "kernelspec": {
   "name": "python3",
   "language": "python",
   "display_name": "Python 3 (ipykernel)"
  },
  "language_info": {
   "name": "python"
  }
 },
 "cells": [
  {
   "cell_type": "markdown",
   "metadata": {
    "id": "view-in-github",
    "colab_type": "text"
   },
   "source": [
    "<a href=\"https://colab.research.google.com/github/jiwon-hae/CSCI544/blob/main/Official_CSCI544_HW1.ipynb\" target=\"_parent\"><img src=\"https://colab.research.google.com/assets/colab-badge.svg\" alt=\"Open In Colab\"/></a>"
   ]
  },
  {
   "cell_type": "markdown",
   "source": [
    "#Part 1. n-Gram Language Models (30 points)\n",
    "\n",
    "Create 1-5-gram language models trained on the tiny shakespeare dataset. The relevant probabilities P(word|context) will be stored in Python dictionaries. Do not use any smoothing or back-off (until Question 4). Pay special attention to beginning and end of sequences in the modeling process.\n",
    "\n",
    "In this section, you may only use libraries imported in the original template."
   ],
   "metadata": {
    "id": "lOHLpU5y0Wgo"
   }
  },
  {
   "cell_type": "code",
   "source": [
    "# Import Libaries\n",
    "import requests\n",
    "import collections\n",
    "import random\n",
    "import math"
   ],
   "metadata": {
    "id": "KQ0G021VWiOh",
    "ExecuteTime": {
     "end_time": "2024-09-19T16:28:01.162111Z",
     "start_time": "2024-09-19T16:28:01.115358Z"
    }
   },
   "execution_count": 1,
   "outputs": []
  },
  {
   "cell_type": "code",
   "source": [
    "url = \"https://raw.githubusercontent.com/karpathy/char-rnn/master/data/tinyshakespeare/input.txt\"\n",
    "response = requests.get(url)\n",
    "response.raise_for_status() # Raise an exception for invalid HTTP status codes\n",
    "text_data = response.text\n",
    "len(text_data), text_data[:100]"
   ],
   "metadata": {
    "id": "Ya2CfD3vWk2_",
    "outputId": "1baf2e4f-2385-4c31-8b4d-29ca3c6a2a51",
    "colab": {
     "base_uri": "https://localhost:8080/"
    },
    "ExecuteTime": {
     "end_time": "2024-09-19T16:28:01.463945Z",
     "start_time": "2024-09-19T16:28:01.144857Z"
    }
   },
   "execution_count": 2,
   "outputs": [
    {
     "data": {
      "text/plain": "(1115394,\n 'First Citizen:\\nBefore we proceed any further, hear me speak.\\n\\nAll:\\nSpeak, speak.\\n\\nFirst Citizen:\\nYou')"
     },
     "execution_count": 2,
     "metadata": {},
     "output_type": "execute_result"
    }
   ]
  },
  {
   "cell_type": "code",
   "source": [
    "# sample\n",
    "random.seed(42)\n",
    "\n",
    "pos = random.randint(0, len(text_data) - 1000)\n",
    "print(text_data[pos:pos+100])"
   ],
   "metadata": {
    "id": "HtJfs33cWmBJ",
    "outputId": "30521339-9ab9-4e90-a99b-025e8d401012",
    "colab": {
     "base_uri": "https://localhost:8080/"
    },
    "ExecuteTime": {
     "end_time": "2024-09-19T16:28:01.465545Z",
     "start_time": "2024-09-19T16:28:01.459069Z"
    }
   },
   "execution_count": 3,
   "outputs": [
    {
     "name": "stdout",
     "output_type": "stream",
     "text": [
      "BY:\n",
      "Many good morrows to my noble lord!\n",
      "\n",
      "HASTINGS:\n",
      "Good morrow, Catesby; you are early stirring\n",
      "What\n"
     ]
    }
   ]
  },
  {
   "cell_type": "code",
   "source": [
    "# preprocessing - do not change\n",
    "def preprocess_text(text_data):\n",
    "  text_data = text_data.replace(',',' , ').replace(';', ' ').replace(':', ' ').replace('.',' . ').replace('?',' ? ').replace('!',' ! ')\n",
    "  text_data = text_data.replace('-', ' ')\n",
    "  text_data = text_data.replace('\\'', '').replace('\"', '')\n",
    "  text_data = text_data.replace('  ', ' ')\n",
    "  text_data = text_data.replace('\\n\\n','\\n').replace('\\n',' </s> <s> ')\n",
    "  text_data = '<s> ' + text_data + ' </s>'\n",
    "  text_data = text_data.lower()\n",
    "  return text_data\n",
    "\n",
    "text_data = preprocess_text(response.text)\n",
    "print(f\"Number of words: {len(text_data.split(' '))}\")"
   ],
   "metadata": {
    "id": "SaPIqFwHWpA3",
    "outputId": "2a5b10f6-ffd3-4b0a-eff5-7a229589c194",
    "colab": {
     "base_uri": "https://localhost:8080/"
    },
    "ExecuteTime": {
     "end_time": "2024-09-19T16:28:01.527018Z",
     "start_time": "2024-09-19T16:28:01.468147Z"
    }
   },
   "execution_count": 4,
   "outputs": [
    {
     "name": "stdout",
     "output_type": "stream",
     "text": [
      "Number of words: 328097\n"
     ]
    }
   ]
  },
  {
   "cell_type": "code",
   "source": [
    "train_data = text_data[:-10_000]\n",
    "test_data = text_data[-10_000:]\n",
    "len(train_data), len(test_data)"
   ],
   "metadata": {
    "id": "cnHQ-enjWqVb",
    "outputId": "2917051b-ae6e-4711-abd4-374346319754",
    "colab": {
     "base_uri": "https://localhost:8080/"
    },
    "ExecuteTime": {
     "end_time": "2024-09-19T16:28:01.528624Z",
     "start_time": "2024-09-19T16:28:01.493948Z"
    }
   },
   "execution_count": 5,
   "outputs": [
    {
     "data": {
      "text/plain": "(1431030, 10000)"
     },
     "execution_count": 5,
     "metadata": {},
     "output_type": "execute_result"
    }
   ]
  },
  {
   "cell_type": "code",
   "source": [
    "vocab = set(train_data.split(' '))\n",
    "print(f\"Number of unique words: {len(vocab)}\")\n",
    "print(f\"Sample unique words: {list(vocab)[:10]}\")"
   ],
   "metadata": {
    "id": "IrYnPsMKWrvG",
    "outputId": "d273b37e-38b4-48d3-9faa-7595e67a6dff",
    "colab": {
     "base_uri": "https://localhost:8080/"
    },
    "ExecuteTime": {
     "end_time": "2024-09-19T16:28:01.562265Z",
     "start_time": "2024-09-19T16:28:01.514838Z"
    }
   },
   "execution_count": 6,
   "outputs": [
    {
     "name": "stdout",
     "output_type": "stream",
     "text": [
      "Number of unique words: 12124\n",
      "Sample unique words: ['', 'contributors', 'grains', 'publishd', 'confirm', 'witht', 'govern', 'cooling', 'bechanced', 'hallond']\n"
     ]
    }
   ]
  },
  {
   "cell_type": "markdown",
   "source": [
    " ## A. Dealing with Out of Vocabulary Words  (5 Points)\n",
    "\n",
    "We want a way to handle words that did not appear in the train set. Create a list of out of vocabulary words by identifying words that appear in the train dataset less than 3 times.\n",
    "\n",
    "**Hint:** You can split the dataset into terms by using corpus.split(' '). You can assume the results will be valid word tokens. No more preprocessing is necessary."
   ],
   "metadata": {
    "id": "9YO9DwrkWuQQ"
   }
  },
  {
   "cell_type": "code",
   "source": [
    "def identify_oov_words(corpus, n=3):\n",
    "    \"\"\"\n",
    "    Identify out-of-vocabulary (OOV) words that appear less than `n` times in the dataset.\n",
    "\n",
    "    Parameters:\n",
    "    - dataset: The dataset to process. It should be a dictionary with a 'text' key.\n",
    "    - n: The frequency threshold below which words are considered OOV.\n",
    "\n",
    "    Returns:\n",
    "    - A set of out-of-vocabulary words.\n",
    "    \"\"\"\n",
    "    # INSERT CODE HERE\n",
    "    counter = {}\n",
    "    for c in corpus.split():\n",
    "      if c not in counter:\n",
    "        counter[c] = 0\n",
    "      counter[c] += 1\n",
    "\n",
    "    oov = [key for key, val in counter.items() if val < n]\n",
    "    return set(oov)"
   ],
   "metadata": {
    "id": "CzuEDZoZWs7t",
    "ExecuteTime": {
     "end_time": "2024-09-19T16:28:01.563333Z",
     "start_time": "2024-09-19T16:28:01.517953Z"
    }
   },
   "execution_count": 7,
   "outputs": []
  },
  {
   "cell_type": "code",
   "source": [
    "oov_words = identify_oov_words(train_data)\n",
    "\n",
    "vocab = vocab - oov_words\n",
    "vocab.add('<UNK>')\n",
    "print(f\"Number of OOV words: {len(oov_words)}\")\n",
    "print(f\"Expected number of OOV words: {7181}\")\n",
    "\n",
    "assert len(oov_words) == 7181"
   ],
   "metadata": {
    "id": "S3_q0smRW2Ex",
    "outputId": "0ee9ade6-819f-4305-8851-28f8ad5d8a41",
    "colab": {
     "base_uri": "https://localhost:8080/"
    },
    "ExecuteTime": {
     "end_time": "2024-09-19T16:28:01.582016Z",
     "start_time": "2024-09-19T16:28:01.551349Z"
    }
   },
   "execution_count": 8,
   "outputs": [
    {
     "name": "stdout",
     "output_type": "stream",
     "text": [
      "Number of OOV words: 7181\n",
      "Expected number of OOV words: 7181\n"
     ]
    }
   ]
  },
  {
   "cell_type": "code",
   "source": [
    "train_data = ' '.join(['<UNK>' if word not in vocab else word for word in train_data.split(' ')])\n",
    "test_data = ' '.join(['<UNK>' if word not in vocab else word for word in test_data.split(' ')])"
   ],
   "metadata": {
    "id": "L60G-KIEW5KA",
    "ExecuteTime": {
     "end_time": "2024-09-19T16:28:01.629498Z",
     "start_time": "2024-09-19T16:28:01.581657Z"
    }
   },
   "execution_count": 9,
   "outputs": []
  },
  {
   "cell_type": "markdown",
   "source": [
    "## B. Create the N-Gram Models (12 Points)\n",
    "In this section, we will train several N-Gram models on ONLY the train_data.\n",
    "\n",
    "First, calculate the counts of each N-Gram."
   ],
   "metadata": {
    "id": "LHKNJJ-gW6qh"
   }
  },
  {
   "cell_type": "code",
   "source": [
    "uni_counts = collections.defaultdict(lambda:0)\n",
    "bi_counts = collections.defaultdict(lambda:0)\n",
    "tri_counts = collections.defaultdict(lambda:0)\n",
    "four_counts = collections.defaultdict(lambda:0)\n",
    "five_counts = collections.defaultdict(lambda:0)"
   ],
   "metadata": {
    "id": "s6p1troiW9lF",
    "ExecuteTime": {
     "end_time": "2024-09-19T16:28:01.630537Z",
     "start_time": "2024-09-19T16:28:01.586009Z"
    }
   },
   "execution_count": 10,
   "outputs": []
  },
  {
   "cell_type": "code",
   "source": [
    "# INSERT CODE HERE\n",
    "token = train_data.split(' ')\n",
    "\n",
    "def calculate_ngram_counts(dataset, count, n):\n",
    "  for i in range(len(dataset) - (n - 1)):\n",
    "    n_gram = tuple(dataset[i:i+n]) if n > 1 else (dataset[i], )\n",
    "    count[n_gram] += 1\n",
    "\n",
    "calculate_ngram_counts(token, uni_counts, 1)\n",
    "calculate_ngram_counts(token, bi_counts, 2)\n",
    "calculate_ngram_counts(token, tri_counts, 3)\n",
    "calculate_ngram_counts(token, four_counts, 4)\n",
    "calculate_ngram_counts(token, five_counts, 5)"
   ],
   "metadata": {
    "id": "nY3UMFE6W_ys",
    "ExecuteTime": {
     "end_time": "2024-09-19T16:28:02.017794Z",
     "start_time": "2024-09-19T16:28:01.600511Z"
    }
   },
   "execution_count": 11,
   "outputs": []
  },
  {
   "cell_type": "markdown",
   "source": [
    "Next, implement the N-Gram models themselves."
   ],
   "metadata": {
    "id": "7DdgHEI5XB0H"
   }
  },
  {
   "cell_type": "code",
   "source": [
    "uni = collections.defaultdict(lambda:0)\n",
    "bi = collections.defaultdict(lambda:0)\n",
    "tri = collections.defaultdict(lambda:0)\n",
    "four = collections.defaultdict(lambda:0)\n",
    "five = collections.defaultdict(lambda:0)"
   ],
   "metadata": {
    "id": "-aACGp05XAVW",
    "ExecuteTime": {
     "end_time": "2024-09-19T16:28:02.020694Z",
     "start_time": "2024-09-19T16:28:02.018270Z"
    }
   },
   "execution_count": 12,
   "outputs": []
  },
  {
   "cell_type": "code",
   "source": [
    "# INSERT CODE HERE\n",
    "def build_ngram(n_gram, count, prev_count, n):\n",
    "  for key in count.keys():\n",
    "    if n == 1 :\n",
    "      total_count = sum(count.values())\n",
    "      n_gram[key[0]] = count[key] / total_count\n",
    "    else:\n",
    "      prev = key[:-1]\n",
    "      n_gram[key] = count[key] / prev_count[prev]\n",
    "\n",
    "build_ngram(uni, uni_counts, None, 1)\n",
    "build_ngram(bi, bi_counts, uni_counts, 2)\n",
    "build_ngram(tri, tri_counts, bi_counts, 3)\n",
    "build_ngram(four, four_counts, tri_counts, 4)\n",
    "build_ngram(five, five_counts, four_counts, 5)"
   ],
   "metadata": {
    "id": "CBnpHlliY3wP",
    "ExecuteTime": {
     "end_time": "2024-09-19T16:28:02.319499Z",
     "start_time": "2024-09-19T16:28:02.038713Z"
    }
   },
   "execution_count": 13,
   "outputs": []
  },
  {
   "cell_type": "code",
   "source": [
    "# Evaluation\n",
    "assert five[('<s>', 'against', 'the', 'roman', 'state')] == 1.0 # prob of last given prev 4\n",
    "assert four[('remain', '</s>', '<s>', 'i')] == 0.25 # prob of last given prev 3\n",
    "assert tri[('did', 'see', 'and')] == 0.5 # prob of last given prev 2\n",
    "assert bi[('rash', 'like')] == 0.1 # prob of last given prev 1\n",
    "assert round(uni[('citizen')],5) == 0.00031 # prob of last"
   ],
   "metadata": {
    "id": "CUgTaWzVXDsQ",
    "ExecuteTime": {
     "end_time": "2024-09-19T16:28:02.322867Z",
     "start_time": "2024-09-19T16:28:02.320417Z"
    }
   },
   "execution_count": 14,
   "outputs": []
  },
  {
   "cell_type": "markdown",
   "source": [
    "## C. Laplace Smoothing (6 Points)\n",
    "\n",
    "From now on, we will **focus our attention to the bigram model**. Reimplement the bigram model using Laplacian Smoothing."
   ],
   "metadata": {
    "id": "Le7l1pSAXGWq"
   }
  },
  {
   "cell_type": "code",
   "source": [
    "def calculate_bigram_probability_with_smoothing(word1, word2):\n",
    "  # INSERT CODE HERE\n",
    "  bigram = (word1, word2)\n",
    "  unigram = (word1, )\n",
    "\n",
    "  bigram_cnt = bi_counts[bigram] + 1\n",
    "  unigram_cnt = uni_counts[unigram] + len(vocab)\n",
    "\n",
    "  return bigram_cnt / unigram_cnt"
   ],
   "metadata": {
    "id": "sVXNg0bZXLfM",
    "ExecuteTime": {
     "end_time": "2024-09-19T16:28:02.325196Z",
     "start_time": "2024-09-19T16:28:02.322684Z"
    }
   },
   "execution_count": 15,
   "outputs": []
  },
  {
   "cell_type": "markdown",
   "source": [
    "## D. Evaluate Perplexity (7 Points)\n",
    "\n",
    "Now let's evaluate the smoothed bigram model quantitively using the intrinsic metric **perplexity**.\n",
    "\n",
    "Recall perplexity is the inverse probability of the test text\n",
    "$$\\text{ppl}(w_1, \\dots, w_n) = p(w_1, \\dots, w_n)^{-\\frac{1}{N}}$$\n",
    "\n",
    "For an n-gram model, perplexity is computed by\n",
    "$$\\text{ppl}(w_1, \\dots, w_n) = (\\prod_i p(w_{i+n}|w_i^{i+n-1})^{-\\frac{1}{N}}$$\n",
    "\n",
    "To get rid of numerical issue, we usually compute through:\n",
    "$$\\text{ppl}(w_1, \\dots, w_n) = \\exp(-\\frac{1}{N}\\sum_i \\log p(w_{i+n}|w_i^{i+n-1}))$$\n",
    "\n",
    "Note that you do NOT need to optimize the language model in any way so as to minimize perplexity. Your reported perplexity will have no correlation with your score on this assignment, as far as it is implemented correctly.\n",
    "\n",
    "**HINT:** Use the calculate_bigram_probability_with_smoothing function created above."
   ],
   "metadata": {
    "id": "p70s9JZcXQIC"
   }
  },
  {
   "cell_type": "code",
   "source": [
    "def compute_perplexity(data):\n",
    "  \"\"\"\n",
    "    Computes the perplexity of a given text data using a bigram language model.\n",
    "\n",
    "    Parameters:\n",
    "    - data : str\n",
    "    Returns:\n",
    "    - float\n",
    "  \"\"\"\n",
    "\n",
    "  assert len(data.split(' ')) >= 5\n",
    "  # Hint: You should use the math library for exp and log\n",
    "  # INSERT CODE HERE\n",
    "  tokens = data.split(' ')\n",
    "  N = len(tokens)\n",
    "  log_prob_sum = 0\n",
    "\n",
    "  for i in range(1, N):\n",
    "    word1 = tokens[i-1]\n",
    "    word2 = tokens[i]\n",
    "\n",
    "    prob = calculate_bigram_probability_with_smoothing(word1, word2)\n",
    "    log_prob_sum += math.log(prob)\n",
    "\n",
    "  perplexity = math.exp(-log_prob_sum / N)\n",
    "  return perplexity"
   ],
   "metadata": {
    "id": "pqODu8L-XPS9",
    "ExecuteTime": {
     "end_time": "2024-09-19T16:28:02.327420Z",
     "start_time": "2024-09-19T16:28:02.325135Z"
    }
   },
   "execution_count": 16,
   "outputs": []
  },
  {
   "cell_type": "code",
   "source": [
    "assert round(compute_perplexity(test_data)) == 129"
   ],
   "metadata": {
    "id": "vVLFr2EfXWOH",
    "ExecuteTime": {
     "end_time": "2024-09-19T16:28:02.330454Z",
     "start_time": "2024-09-19T16:28:02.328299Z"
    }
   },
   "execution_count": 17,
   "outputs": []
  },
  {
   "cell_type": "markdown",
   "source": [
    "# Part 2. Logistic Regression (40 points)\n",
    "\n"
   ],
   "metadata": {
    "id": "c-evK15Gwf3_"
   }
  },
  {
   "cell_type": "markdown",
   "source": [
    " In this question, you will be guided to implement logistic regression classifer from scratch. You will use LR classifer to do sentiment analysis task on Twitter dataset (the dataset is provided in the code)."
   ],
   "metadata": {
    "id": "1iiTuJWnfhA5"
   }
  },
  {
   "cell_type": "markdown",
   "source": [
    "## Import Data"
   ],
   "metadata": {
    "id": "M7etuJ5pwymq"
   }
  },
  {
   "cell_type": "code",
   "source": [
    "# run this cell to import nltk\n",
    "import nltk"
   ],
   "metadata": {
    "id": "Tw63O_jqwfJ1",
    "ExecuteTime": {
     "end_time": "2024-09-19T16:28:03.070627Z",
     "start_time": "2024-09-19T16:28:02.330337Z"
    }
   },
   "execution_count": 18,
   "outputs": []
  },
  {
   "cell_type": "code",
   "source": [
    "nltk.download('twitter_samples')\n",
    "nltk.download('stopwords')\n",
    "# you only need to run it once"
   ],
   "metadata": {
    "id": "HotoYOViw3Bv",
    "outputId": "0a645586-e146-40f9-a0b4-9b9e373e952c",
    "colab": {
     "base_uri": "https://localhost:8080/"
    },
    "ExecuteTime": {
     "end_time": "2024-09-19T16:28:03.182542Z",
     "start_time": "2024-09-19T16:28:03.071161Z"
    }
   },
   "execution_count": 19,
   "outputs": [
    {
     "name": "stderr",
     "output_type": "stream",
     "text": [
      "[nltk_data] Downloading package twitter_samples to\n",
      "[nltk_data]     /Users/jiwon_hae/nltk_data...\n",
      "[nltk_data]   Package twitter_samples is already up-to-date!\n",
      "[nltk_data] Downloading package stopwords to\n",
      "[nltk_data]     /Users/jiwon_hae/nltk_data...\n",
      "[nltk_data]   Package stopwords is already up-to-date!\n"
     ]
    },
    {
     "data": {
      "text/plain": "True"
     },
     "execution_count": 19,
     "metadata": {},
     "output_type": "execute_result"
    }
   ]
  },
  {
   "cell_type": "code",
   "source": [
    "import numpy as np\n",
    "import pandas as pd\n",
    "from nltk.corpus import twitter_samples\n",
    "import re\n",
    "import string\n",
    "\n",
    "from nltk.corpus import stopwords\n",
    "from nltk.stem import PorterStemmer\n",
    "from nltk.tokenize import TweetTokenizer"
   ],
   "metadata": {
    "id": "O8KazUgww7rU",
    "ExecuteTime": {
     "end_time": "2024-09-19T16:28:11.733869Z",
     "start_time": "2024-09-19T16:28:03.181374Z"
    }
   },
   "execution_count": 20,
   "outputs": []
  },
  {
   "cell_type": "markdown",
   "source": [
    "## Prepare the data\n",
    "* You do not need to split the data. We provide the code for you and you just need to run the code below.\n"
   ],
   "metadata": {
    "id": "0zmbOD3-xgpf"
   }
  },
  {
   "cell_type": "code",
   "source": [
    "# select the set of positive and negative tweets\n",
    "all_positive_tweets = twitter_samples.strings('positive_tweets.json')\n",
    "all_negative_tweets = twitter_samples.strings('negative_tweets.json')"
   ],
   "metadata": {
    "id": "lq8Rr5R4xc8d",
    "ExecuteTime": {
     "end_time": "2024-09-19T16:28:12.019743Z",
     "start_time": "2024-09-19T16:28:11.735215Z"
    }
   },
   "execution_count": 21,
   "outputs": []
  },
  {
   "cell_type": "markdown",
   "source": [
    "* Train test split: 20% will be in the test set, and 80% in the training set.\n"
   ],
   "metadata": {
    "id": "pd-qM1SBxlQw"
   }
  },
  {
   "cell_type": "code",
   "source": [
    "# split the data into two pieces, one for training and one for testing (validation set)\n",
    "test_pos = all_positive_tweets[4000:]\n",
    "train_pos = all_positive_tweets[:4000]\n",
    "test_neg = all_negative_tweets[4000:]\n",
    "train_neg = all_negative_tweets[:4000]\n",
    "\n",
    "train_x = train_pos + train_neg\n",
    "test_x = test_pos + test_neg"
   ],
   "metadata": {
    "id": "SJsYMwnoxodO",
    "ExecuteTime": {
     "end_time": "2024-09-19T16:28:12.022471Z",
     "start_time": "2024-09-19T16:28:12.020477Z"
    }
   },
   "execution_count": 22,
   "outputs": []
  },
  {
   "cell_type": "markdown",
   "source": [
    "* Create the numpy array of positive labels and negative labels."
   ],
   "metadata": {
    "id": "usI6KCj6xtBX"
   }
  },
  {
   "cell_type": "code",
   "source": [
    "# combine positive and negative labels\n",
    "train_y = np.append(np.ones((len(train_pos), 1)), np.zeros((len(train_neg), 1)), axis=0)\n",
    "test_y = np.append(np.ones((len(test_pos), 1)), np.zeros((len(test_neg), 1)), axis=0)"
   ],
   "metadata": {
    "id": "CVEhgGkix0UR",
    "ExecuteTime": {
     "end_time": "2024-09-19T16:28:12.025069Z",
     "start_time": "2024-09-19T16:28:12.022753Z"
    }
   },
   "execution_count": 23,
   "outputs": []
  },
  {
   "cell_type": "markdown",
   "source": [
    "## A.  Text processing (6 points)\n",
    "\n",
    "\n",
    "\n",
    "\n",
    "\n",
    "\n",
    "*   Remove old style retweet with 'RT' in the sentence\n",
    "*   Remove hyperlinks\n",
    "\n",
    "*   Remove hashtag\n",
    "*   Tokenize the sentence using TweetTokenizer\n",
    "\n",
    "\n",
    "*   Remove stop words\n",
    "*   Use PorterStemmer to create stem of words in tweet\n",
    "\n",
    "\n",
    "\n",
    "\n",
    "\n",
    "\n",
    "\n",
    "\n",
    "\n",
    "\n"
   ],
   "metadata": {
    "id": "vqd8BjfkxDaI"
   }
  },
  {
   "cell_type": "code",
   "source": [
    "def process_tweet(tweet):\n",
    "  # write your code here\n",
    "  def remove_rt(tw):\n",
    "    re_rt = re.compile('RT[\\s]+')\n",
    "    return re_rt.sub(r'', tw)\n",
    "\n",
    "  def remove_hyperlink(tw):\n",
    "    re_url = re.compile(r'https?://\\S+|www\\.\\S+')\n",
    "    return re_url.sub(r'', tw)\n",
    "\n",
    "  def remove_hashtag(tw):\n",
    "    re_hashtag = re.compile(\"#\\w+\")\n",
    "    return re_hashtag.sub(r'', tw)\n",
    "\n",
    "  def remove_stopwords(token):\n",
    "    s = stopwords.words('english')\n",
    "    return [i for i in token if i not in s]\n",
    "\n",
    "  tweet = remove_rt(tweet)\n",
    "  tweet = remove_hyperlink(tweet)\n",
    "  tweet = remove_hashtag(tweet)\n",
    "\n",
    "  tweet_tokenizer = TweetTokenizer(preserve_case = False)\n",
    "  tokens = tweet_tokenizer.tokenize(tweet)\n",
    "  filtered_tokens = remove_stopwords(tokens)\n",
    "\n",
    "  ps = PorterStemmer()\n",
    "  stemmed_words = [ps.stem(token) for token in filtered_tokens]\n",
    "  return stemmed_words"
   ],
   "metadata": {
    "id": "Cp6zvJ3uw-rP",
    "ExecuteTime": {
     "end_time": "2024-09-19T16:28:12.030174Z",
     "start_time": "2024-09-19T16:28:12.026532Z"
    }
   },
   "execution_count": 24,
   "outputs": []
  },
  {
   "cell_type": "markdown",
   "source": [
    "We will create a function that will take tweets and their labels as input, go through every tweet, preprocess them, count the occurrence of every word in the data set and create a frequency dictionary.\n",
    "\n",
    "Notice how the outer for loop goes through each tweet, and the inner for loop steps through each word in a tweet.\n",
    "The freqs dictionary is the frequency dictionary that's being built.\n",
    "The key is the tuple (word, label), such as (\"happy\",1) or (\"happy\",0). The value stored for each key is the count of how many times the word \"happy\" was associated with a positive label, or how many times \"happy\" was associated with a negative label."
   ],
   "metadata": {
    "id": "SeW_hTjhxTQz"
   }
  },
  {
   "cell_type": "code",
   "source": [
    "def build_freqs(tweets, ys):\n",
    "\n",
    "    # write your code here\n",
    "    freqs = {}\n",
    "    for tw, label in zip(tweets, ys):\n",
    "      p_tweet = process_tweet(tw)\n",
    "      label = label.item()\n",
    "\n",
    "      for t in p_tweet:\n",
    "        key = (t, label)\n",
    "        if key not in freqs:\n",
    "          freqs[key] = 0\n",
    "        freqs[key] += 1\n",
    "    return freqs"
   ],
   "metadata": {
    "id": "L-s8dg8NxX4i",
    "ExecuteTime": {
     "end_time": "2024-09-19T16:28:12.031605Z",
     "start_time": "2024-09-19T16:28:12.028682Z"
    }
   },
   "execution_count": 25,
   "outputs": []
  },
  {
   "cell_type": "markdown",
   "source": [
    "## B. Logistic regression (16 points)\n",
    "\n",
    "\n",
    "### Sigmoid (4 points)\n",
    "\n",
    "You will learn to use logistic regression for text classification.\n",
    "* The sigmoid function is defined as:\n",
    "\n",
    "$$ h(z) = \\frac{1}{1+\\exp^{-z}} \\tag{1}$$\n",
    "\n",
    "It maps the input 'z' to a value that ranges between 0 and 1, and so it can be treated as a probability.\n"
   ],
   "metadata": {
    "id": "A5iTSkQHx6I4"
   }
  },
  {
   "cell_type": "code",
   "source": [
    "def sigmoid(z):\n",
    "    '''\n",
    "    Input:\n",
    "        z: is the input (can be a scalar or an array)\n",
    "    Output:\n",
    "        h: the sigmoid of z\n",
    "    '''\n",
    "\n",
    "    # write your code here\n",
    "    return 1 / (1 + np.exp(-z))"
   ],
   "metadata": {
    "id": "WP5U6cRDyFqb",
    "ExecuteTime": {
     "end_time": "2024-09-19T16:28:12.034628Z",
     "start_time": "2024-09-19T16:28:12.030876Z"
    }
   },
   "execution_count": 26,
   "outputs": []
  },
  {
   "cell_type": "markdown",
   "source": [
    "*If you are familiar with Logistic regression, you don't need to go over this instructions. *\n",
    "\n",
    "### Logistic regression: regression and a sigmoid\n",
    "\n",
    "Logistic regression takes a regular linear regression, and applies a sigmoid to the output of the linear regression.\n",
    "\n",
    "Regression:\n",
    "$$z = \\theta_0 x_0 + \\theta_1 x_1 + \\theta_2 x_2 + ... \\theta_N x_N$$\n",
    "Note that the $\\theta$ values are \"weights\". If you took the Deep Learning Specialization, we referred to the weights with the `w` vector.  In this course, we're using a different variable $\\theta$ to refer to the weights.\n",
    "\n",
    "Logistic regression\n",
    "$$ h(z) = \\frac{1}{1+\\exp^{-z}}$$\n",
    "$$z = \\theta_0 x_0 + \\theta_1 x_1 + \\theta_2 x_2 + ... \\theta_N x_N$$\n",
    "We will refer to 'z' as the 'logits'.\n",
    "\n",
    "###  Cost function and Gradient\n",
    "\n",
    "The cost function used for logistic regression is the average of the log loss across all training examples:\n",
    "\n",
    "$$J(\\theta) = -\\frac{1}{m} \\sum_{i=1}^m y^{(i)}\\log (h(z(\\theta)^{(i)})) + (1-y^{(i)})\\log (1-h(z(\\theta)^{(i)}))\\tag{5} $$\n",
    "* $m$ is the number of training examples\n",
    "* $y^{(i)}$ is the actual label of the i-th training example.\n",
    "* $h(z(\\theta)^{(i)})$ is the model's prediction for the i-th training example.\n",
    "\n",
    "The loss function for a single training example is\n",
    "$$ Loss = -1 \\times \\left( y^{(i)}\\log (h(z(\\theta)^{(i)})) + (1-y^{(i)})\\log (1-h(z(\\theta)^{(i)})) \\right)$$\n",
    "\n",
    "* All the $h$ values are between 0 and 1, so the logs will be negative. That is the reason for the factor of -1 applied to the sum of the two loss terms.\n",
    "* Note that when the model predicts 1 ($h(z(\\theta)) = 1$) and the label $y$ is also 1, the loss for that training example is 0.\n",
    "\n",
    "### Update the weights\n",
    "\n",
    "To update your weight vector $\\theta$, you will apply gradient descent to iteratively improve your model's predictions.  \n",
    "The gradient of the cost function $J$ with respect to one of the weights $\\theta_j$ is:\n",
    "\n",
    "$$\\nabla_{\\theta_j}J(\\theta) = \\frac{1}{m} \\sum_{i=1}^m(h^{(i)}-y^{(i)})x_j \\tag{5}$$\n",
    "* 'i' is the index across all 'm' training examples.\n",
    "* 'j' is the index of the weight $\\theta_j$, so $x_j$ is the feature associated with weight $\\theta_j$\n",
    "\n",
    "* To update the weight $\\theta_j$, we adjust it by subtracting a fraction of the gradient determined by $\\alpha$:\n",
    "$$\\theta_j = \\theta_j - \\alpha \\times \\nabla_{\\theta_j}J(\\theta) $$\n",
    "* The learning rate $\\alpha$ is a value that we choose to control how big a single update will be.\n"
   ],
   "metadata": {
    "id": "Ckn5acahyKHF"
   }
  },
  {
   "cell_type": "markdown",
   "source": [
    "### Implement gradient descent function (12 points)\n",
    "\n",
    "* The number of iterations `num_iters` is the number of times that you'll use the entire training set.\n",
    "* For each iteration, you'll calculate the cost function using all training examples (there are `m` training examples), and for all features.\n",
    "* Instead of updating a single weight $\\theta_i$ at a time, we can update all the weights in the column vector:  \n",
    "$$\\mathbf{\\theta} = \\begin{pmatrix}\n",
    "\\theta_0\n",
    "\\\\\n",
    "\\theta_1\n",
    "\\\\\n",
    "\\theta_2\n",
    "\\\\\n",
    "\\vdots\n",
    "\\\\\n",
    "\\theta_n\n",
    "\\end{pmatrix}$$\n",
    "* $\\mathbf{\\theta}$ has dimensions (n+1, 1), where 'n' is the number of features, and there is one more element for the bias term $\\theta_0$ (note that the corresponding feature value $\\mathbf{x_0}$ is 1).\n",
    "* The 'logits', 'z', are calculated by multiplying the feature matrix 'x' with the weight vector 'theta'.  $z = \\mathbf{x}\\mathbf{\\theta}$\n",
    "    * $\\mathbf{x}$ has dimensions (m, n+1)\n",
    "    * $\\mathbf{\\theta}$: has dimensions (n+1, 1)\n",
    "    * $\\mathbf{z}$: has dimensions (m, 1)\n",
    "* The prediction 'h', is calculated by applying the sigmoid to each element in 'z': $h(z) = sigmoid(z)$, and has dimensions (m,1).\n",
    "* The cost function $J$ is calculated by taking the dot product of the vectors 'y' and 'log(h)'.  Since both 'y' and 'h' are column vectors (m,1), transpose the vector to the left, so that matrix multiplication of a row vector with column vector performs the dot product.\n",
    "$$J = \\frac{-1}{m} \\times \\left(\\mathbf{y}^T \\cdot log(\\mathbf{h}) + \\mathbf{(1-y)}^T \\cdot log(\\mathbf{1-h}) \\right)$$\n",
    "* The update of theta is also vectorized.  Because the dimensions of $\\mathbf{x}$ are (m, n+1), and both $\\mathbf{h}$ and $\\mathbf{y}$ are (m, 1), we need to transpose the $\\mathbf{x}$ and place it on the left in order to perform matrix multiplication, which then yields the (n+1, 1) answer we need:\n",
    "$$\\mathbf{\\theta} = \\mathbf{\\theta} - \\frac{\\alpha}{m} \\times \\left( \\mathbf{x}^T \\cdot \\left( \\mathbf{h-y} \\right) \\right)$$"
   ],
   "metadata": {
    "id": "VYaPWAXoy8E4"
   }
  },
  {
   "cell_type": "code",
   "source": [
    "def gradientDescent(x, y, theta, alpha, num_iters):\n",
    "    '''\n",
    "    Input:\n",
    "        x: matrix of features which is (m,n+1)\n",
    "        y: corresponding labels of the input matrix x, dimensions (m,1)\n",
    "        theta: weight vector of dimension (n+1,1)\n",
    "        alpha: learning rate\n",
    "        num_iters: number of iterations you want to train your model for\n",
    "    Output:\n",
    "        J: the final cost\n",
    "        theta: your final weight vector\n",
    "    Hint: you might want to print the cost to make sure that it is going down.\n",
    "    '''\n",
    "    ### Write your code here\n",
    "    m = len(y)\n",
    "    j_history = []\n",
    "\n",
    "    for t in range(1, num_iters + 1):\n",
    "      h = sigmoid(x.dot(theta))\n",
    "\n",
    "      epsilon = 1e-10\n",
    "      h = np.clip(h, epsilon, 1 - epsilon)\n",
    "\n",
    "      j = (1/m) * -np.sum(y * np.log(h) + (1 - y) * np.log(1 - h))\n",
    "      if np.isnan(j):\n",
    "        break\n",
    "\n",
    "      j_history.append(j)\n",
    "\n",
    "      gradient = (1/m) * x.T.dot(h-y)\n",
    "      theta -= alpha * gradient\n",
    "\n",
    "    return j_history[-1], theta"
   ],
   "metadata": {
    "id": "u5ylWyKIzEqs",
    "ExecuteTime": {
     "end_time": "2024-09-19T16:28:12.036745Z",
     "start_time": "2024-09-19T16:28:12.033943Z"
    }
   },
   "execution_count": 27,
   "outputs": []
  },
  {
   "cell_type": "markdown",
   "source": [
    "## C. Extracting the features (6 points)\n",
    "\n",
    "* Given a list of tweets, extract the features and store them in a matrix. You will extract two features.\n",
    "    * The first feature is the number of positive words in a tweet.\n",
    "    * The second feature is the number of negative words in a tweet.\n",
    "* Then train your logistic regression classifier on these features.\n",
    "* Test the classifier on a validation set.\n",
    "\n",
    "### Instructions: Implement the extract_features function.\n",
    "* This function takes in a single tweet.\n",
    "* Process the tweet using the imported `process_tweet()` function and save the list of tweet words.\n",
    "* Loop through each word in the list of processed words\n",
    "    * For each word, check the `freqs` dictionary for the count when that word has a positive '1' label. (Check for the key (word, 1.0)\n",
    "    * Do the same for the count for when the word is associated with the negative label '0'. (Check for the key (word, 0.0).)"
   ],
   "metadata": {
    "id": "kOW5hhOezOnu"
   }
  },
  {
   "cell_type": "code",
   "source": [
    "def extract_features(tweet, freqs):\n",
    "    '''\n",
    "    Input:\n",
    "        tweet: a list of words for one tweet\n",
    "        freqs: a dictionary corresponding to the frequencies of each tuple (word, label)\n",
    "    Output:\n",
    "        x: a feature vector of dimension (1,3)\n",
    "    '''\n",
    "\n",
    "    # process_tweet tokenizes, stems, and removes stopwords\n",
    "    word_l = process_tweet(tweet)\n",
    "\n",
    "    # 3 elements in the form of a 1 x 3 vector\n",
    "    x = np.zeros((1, 3))\n",
    "\n",
    "    #bias term is set to 1\n",
    "    x[0,0] = 1\n",
    "\n",
    "    # write your code here\n",
    "    for word in word_l:\n",
    "      pos_key = (word, 1.0)\n",
    "      neg_key = (word, 0.0)\n",
    "      x[0, 1] += freqs[pos_key] if pos_key in freqs else 0\n",
    "      x[0, 2] += freqs[neg_key] if neg_key in freqs else 0\n",
    "\n",
    "    return x"
   ],
   "metadata": {
    "id": "KosqgShlzIbD",
    "ExecuteTime": {
     "end_time": "2024-09-19T16:28:12.074155Z",
     "start_time": "2024-09-19T16:28:12.039030Z"
    }
   },
   "execution_count": 28,
   "outputs": []
  },
  {
   "cell_type": "markdown",
   "source": [
    "## D. Training Your Model (6 points)\n",
    "\n",
    "To train the model:\n",
    "* Stack the features for all training examples into a matrix `X`.\n",
    "* Call `gradientDescent`, which you've implemented above.\n",
    "* Print the cost J and final weights theta."
   ],
   "metadata": {
    "id": "ThQX8MJUzYQa"
   }
  },
  {
   "cell_type": "code",
   "outputs": [
    {
     "name": "stdout",
     "output_type": "stream",
     "text": [
      "cost 0.04665784380621075\n",
      "weights [[ 0.00067608]\n",
      " [ 0.00483756]\n",
      " [-0.00590681]]\n"
     ]
    }
   ],
   "source": [
    "# write your code here\n",
    "m = len(train_x)\n",
    "X = np.zeros((m, 3))\n",
    "freqs = build_freqs(train_x, train_y)\n",
    "\n",
    "for i, tweet in enumerate(train_x):\n",
    "    X[i, :] = extract_features(tweet, freqs)\n",
    "\n",
    "y = train_y.reshape(-1, 1)\n",
    "theta = np.zeros((X.shape[1], 1))\n",
    "\n",
    "alpha = 0.00001\n",
    "num_iters = 10000\n",
    "j, theta = gradientDescent(X, y, theta, alpha, num_iters)\n",
    "print('cost', j)\n",
    "print('weights', theta)"
   ],
   "metadata": {
    "collapsed": false,
    "ExecuteTime": {
     "end_time": "2024-09-19T16:28:17.406590Z",
     "start_time": "2024-09-19T16:28:12.041401Z"
    }
   },
   "execution_count": 29
  },
  {
   "cell_type": "markdown",
   "source": [
    "## E. Test your model (6 points)\n",
    "\n",
    "It is time for you to test your logistic regression function on some new input that your model has not seen before.\n",
    "\n",
    "#### Instructions: Write `predict_tweet`\n",
    "Predict whether a tweet is positive or negative.\n",
    "\n",
    "* Given a tweet, process it, then extract the features.\n",
    "* Apply the model's learned weights on the features to get the logits.\n",
    "* Apply the sigmoid to the logits to get the prediction (a value between 0 and 1).\n",
    "\n",
    "$$y_{pred} = sigmoid(\\mathbf{x} \\cdot \\theta)$$"
   ],
   "metadata": {
    "id": "dZ3BTrKTziUF"
   }
  },
  {
   "cell_type": "code",
   "source": [
    "def predict_tweet(tweet, freqs, theta):\n",
    "    '''\n",
    "    Input:\n",
    "        tweet: a string\n",
    "        freqs: a dictionary corresponding to the frequencies of each tuple (word, label)\n",
    "        theta: (3,1) vector of weights\n",
    "    Output:\n",
    "        y_pred: the probability of a tweet being positive or negative\n",
    "    '''\n",
    "    # write your code here\n",
    "    x = extract_features(tweet, freqs)\n",
    "    z = np.dot(x, theta)\n",
    "    y_pred = sigmoid(z)\n",
    "    return y_pred"
   ],
   "metadata": {
    "id": "C0gsWj6ozgiT",
    "ExecuteTime": {
     "end_time": "2024-09-19T16:28:17.457756Z",
     "start_time": "2024-09-19T16:28:17.409351Z"
    }
   },
   "execution_count": 30,
   "outputs": []
  },
  {
   "cell_type": "markdown",
   "source": [
    "### Check performance using the test set\n",
    "After training your model using the training set above, check how your model might perform on real, unseen data, by testing it against the test set.\n",
    "\n",
    "#### Instructions: Implement `test_logistic_regression`\n",
    "* Given the test data and the weights of your trained model, calculate the accuracy of your logistic regression model.\n",
    "* Use your `predict_tweet()` function to make predictions on each tweet in the test set.\n",
    "* If the prediction is > 0.5, set the model's classification `y_hat` to 1, otherwise set the model's classification `y_hat` to 0.\n",
    "* A prediction is accurate when `y_hat` equals `test_y`.  Sum up all the instances when they are equal and divide by `m`."
   ],
   "metadata": {
    "id": "qfL3YpxMzxEl"
   }
  },
  {
   "cell_type": "code",
   "source": [
    "def test_logistic_regression(test_x, test_y, freqs, theta):\n",
    "    \"\"\"\n",
    "    Input:\n",
    "        test_x: a list of tweets\n",
    "        test_y: (m, 1) vector with the corresponding labels for the list of tweets\n",
    "        freqs: a dictionary with the frequency of each pair (or tuple)\n",
    "        theta: weight vector of dimension (3, 1)\n",
    "    Output:\n",
    "        accuracy: (# of tweets classified correctly) / (total # of tweets)\n",
    "    \"\"\"\n",
    "\n",
    "    # write your code here\n",
    "    m = len(test_x)\n",
    "    positive_result = 0\n",
    "\n",
    "    for i in range(m):\n",
    "      tweet = test_x[i]\n",
    "      ground_truth = test_y[i]\n",
    "\n",
    "      y_pred = predict_tweet(tweet, freqs, theta)\n",
    "      h_hat = 1 if y_pred > 0.5 else 0\n",
    "\n",
    "      if h_hat == int(ground_truth):\n",
    "        positive_result += 1\n",
    "\n",
    "    accuracy = positive_result / m\n",
    "    return accuracy"
   ],
   "metadata": {
    "id": "3U2Cht1Cz437",
    "ExecuteTime": {
     "end_time": "2024-09-19T16:28:17.495197Z",
     "start_time": "2024-09-19T16:28:17.441056Z"
    }
   },
   "execution_count": 31,
   "outputs": []
  },
  {
   "cell_type": "code",
   "source": [
    "tmp_accuracy = test_logistic_regression(test_x, test_y, freqs, theta)\n",
    "print(f\"Logistic regression model's accuracy = {tmp_accuracy:.4f}\")"
   ],
   "metadata": {
    "id": "GwaUhFDlz8wg",
    "outputId": "d84e5cfe-d186-4345-cf5f-b32aee790cf7",
    "colab": {
     "base_uri": "https://localhost:8080/"
    },
    "ExecuteTime": {
     "end_time": "2024-09-19T16:28:17.865056Z",
     "start_time": "2024-09-19T16:28:17.475050Z"
    }
   },
   "execution_count": 32,
   "outputs": [
    {
     "name": "stderr",
     "output_type": "stream",
     "text": [
      "/var/folders/sb/4wckybv97dl1hsflchpbj4080000gn/T/ipykernel_6768/809387247.py:23: DeprecationWarning: Conversion of an array with ndim > 0 to a scalar is deprecated, and will error in future. Ensure you extract a single element from your array before performing this operation. (Deprecated NumPy 1.25.)\n",
      "  if h_hat == int(ground_truth):\n"
     ]
    },
    {
     "name": "stdout",
     "output_type": "stream",
     "text": [
      "Logistic regression model's accuracy = 0.9885\n"
     ]
    }
   ]
  },
  {
   "cell_type": "markdown",
   "source": [
    "#Part 3. Word Embeddings (30 points)"
   ],
   "metadata": {
    "id": "snPTf5W90sdC"
   }
  },
  {
   "cell_type": "markdown",
   "source": [
    "In this question, you will implement cosine similarities from scratch and solve some word analogy problems with pre-trained word vectors."
   ],
   "metadata": {
    "id": "qujKDYlzgG8V"
   }
  },
  {
   "cell_type": "markdown",
   "source": [
    "## A. Load Pre-trained GloVe Word Vectors with Gensim (0 points)\n",
    "\n",
    "- Gensim is a package that implements the word2vec family of algorithms. Here, we use it to load a pre-trained word vectors named GloVe ([Pennington et al. 2014](https://aclanthology.org/D14-1162/)). Please follow the instructions below.\n",
    "- See more about the Gensim API here: https://radimrehurek.com/gensim/models/word2vec.html"
   ],
   "metadata": {
    "id": "Y-RqYJcv05rP"
   }
  },
  {
   "cell_type": "code",
   "source": [
    "!pip install gensim"
   ],
   "metadata": {
    "colab": {
     "base_uri": "https://localhost:8080/"
    },
    "id": "ZoQgPZiL0yG1",
    "outputId": "00140d01-8ee5-4d56-a317-fa40a20c17cf",
    "ExecuteTime": {
     "end_time": "2024-09-19T16:28:28.214425Z",
     "start_time": "2024-09-19T16:28:17.864762Z"
    }
   },
   "execution_count": 33,
   "outputs": [
    {
     "name": "stdout",
     "output_type": "stream",
     "text": [
      "Requirement already satisfied: gensim in /opt/anaconda3/lib/python3.11/site-packages (4.3.0)\r\n",
      "Requirement already satisfied: numpy>=1.18.5 in /opt/anaconda3/lib/python3.11/site-packages (from gensim) (1.26.4)\r\n",
      "Requirement already satisfied: scipy>=1.7.0 in /opt/anaconda3/lib/python3.11/site-packages (from gensim) (1.13.1)\r\n",
      "Requirement already satisfied: smart-open>=1.8.1 in /opt/anaconda3/lib/python3.11/site-packages (from gensim) (5.2.1)\r\n",
      "Requirement already satisfied: FuzzyTM>=0.4.0 in /opt/anaconda3/lib/python3.11/site-packages (from gensim) (2.0.9)\r\n",
      "Requirement already satisfied: pandas in /opt/anaconda3/lib/python3.11/site-packages (from FuzzyTM>=0.4.0->gensim) (2.2.2)\r\n",
      "Requirement already satisfied: pyfume in /opt/anaconda3/lib/python3.11/site-packages (from FuzzyTM>=0.4.0->gensim) (0.3.4)\r\n",
      "Requirement already satisfied: python-dateutil>=2.8.2 in /opt/anaconda3/lib/python3.11/site-packages (from pandas->FuzzyTM>=0.4.0->gensim) (2.8.2)\r\n",
      "Requirement already satisfied: pytz>=2020.1 in /opt/anaconda3/lib/python3.11/site-packages (from pandas->FuzzyTM>=0.4.0->gensim) (2023.3.post1)\r\n",
      "Requirement already satisfied: tzdata>=2022.7 in /opt/anaconda3/lib/python3.11/site-packages (from pandas->FuzzyTM>=0.4.0->gensim) (2023.3)\r\n",
      "Collecting scipy>=1.7.0 (from gensim)\r\n",
      "  Using cached scipy-1.10.1-cp311-cp311-macosx_12_0_arm64.whl.metadata (100 kB)\r\n",
      "Collecting numpy>=1.18.5 (from gensim)\r\n",
      "  Using cached numpy-1.24.4-cp311-cp311-macosx_11_0_arm64.whl.metadata (5.6 kB)\r\n",
      "Requirement already satisfied: simpful==2.12.0 in /opt/anaconda3/lib/python3.11/site-packages (from pyfume->FuzzyTM>=0.4.0->gensim) (2.12.0)\r\n",
      "Requirement already satisfied: fst-pso==1.8.1 in /opt/anaconda3/lib/python3.11/site-packages (from pyfume->FuzzyTM>=0.4.0->gensim) (1.8.1)\r\n",
      "Collecting pandas (from FuzzyTM>=0.4.0->gensim)\r\n",
      "  Using cached pandas-1.5.3-cp311-cp311-macosx_11_0_arm64.whl.metadata (11 kB)\r\n",
      "Requirement already satisfied: miniful in /opt/anaconda3/lib/python3.11/site-packages (from fst-pso==1.8.1->pyfume->FuzzyTM>=0.4.0->gensim) (0.0.6)\r\n",
      "Requirement already satisfied: six>=1.5 in /opt/anaconda3/lib/python3.11/site-packages (from python-dateutil>=2.8.2->pandas->FuzzyTM>=0.4.0->gensim) (1.16.0)\r\n",
      "Using cached numpy-1.24.4-cp311-cp311-macosx_11_0_arm64.whl (13.8 MB)\r\n",
      "Using cached scipy-1.10.1-cp311-cp311-macosx_12_0_arm64.whl (28.7 MB)\r\n",
      "Using cached pandas-1.5.3-cp311-cp311-macosx_11_0_arm64.whl (10.8 MB)\r\n",
      "Installing collected packages: numpy, scipy, pandas\r\n",
      "  Attempting uninstall: numpy\r\n",
      "    Found existing installation: numpy 1.26.4\r\n",
      "    Uninstalling numpy-1.26.4:\r\n",
      "      Successfully uninstalled numpy-1.26.4\r\n",
      "  Attempting uninstall: scipy\r\n",
      "    Found existing installation: scipy 1.13.1\r\n",
      "    Uninstalling scipy-1.13.1:\r\n",
      "      Successfully uninstalled scipy-1.13.1\r\n",
      "  Attempting uninstall: pandas\r\n",
      "    Found existing installation: pandas 2.2.2\r\n",
      "    Uninstalling pandas-2.2.2:\r\n",
      "      Successfully uninstalled pandas-2.2.2\r\n",
      "Successfully installed numpy-1.24.4 pandas-1.5.3 scipy-1.10.1\r\n",
      "\r\n",
      "\u001B[1m[\u001B[0m\u001B[34;49mnotice\u001B[0m\u001B[1;39;49m]\u001B[0m\u001B[39;49m A new release of pip is available: \u001B[0m\u001B[31;49m24.0\u001B[0m\u001B[39;49m -> \u001B[0m\u001B[32;49m24.2\u001B[0m\r\n",
      "\u001B[1m[\u001B[0m\u001B[34;49mnotice\u001B[0m\u001B[1;39;49m]\u001B[0m\u001B[39;49m To update, run: \u001B[0m\u001B[32;49mpip install --upgrade pip\u001B[0m\r\n"
     ]
    }
   ]
  },
  {
   "cell_type": "code",
   "source": [
    "import gensim.downloader\n",
    "import numpy as np"
   ],
   "metadata": {
    "id": "k1-WXnpN03RC",
    "ExecuteTime": {
     "end_time": "2024-09-19T17:21:12.895271Z",
     "start_time": "2024-09-19T17:21:12.483263Z"
    }
   },
   "execution_count": 35,
   "outputs": [
    {
     "ename": "ImportError",
     "evalue": "cannot import name 'prod' from 'scipy._lib._util' (/opt/anaconda3/lib/python3.11/site-packages/scipy/_lib/_util.py)",
     "output_type": "error",
     "traceback": [
      "\u001B[0;31m---------------------------------------------------------------------------\u001B[0m",
      "\u001B[0;31mImportError\u001B[0m                               Traceback (most recent call last)",
      "Cell \u001B[0;32mIn[35], line 1\u001B[0m\n\u001B[0;32m----> 1\u001B[0m \u001B[38;5;28;01mimport\u001B[39;00m \u001B[38;5;21;01mgensim\u001B[39;00m\u001B[38;5;21;01m.\u001B[39;00m\u001B[38;5;21;01mdownloader\u001B[39;00m\n\u001B[1;32m      2\u001B[0m \u001B[38;5;28;01mimport\u001B[39;00m \u001B[38;5;21;01mnumpy\u001B[39;00m \u001B[38;5;28;01mas\u001B[39;00m \u001B[38;5;21;01mnp\u001B[39;00m\n",
      "File \u001B[0;32m/opt/anaconda3/lib/python3.11/site-packages/gensim/__init__.py:11\u001B[0m\n\u001B[1;32m      7\u001B[0m __version__ \u001B[38;5;241m=\u001B[39m \u001B[38;5;124m'\u001B[39m\u001B[38;5;124m4.3.0\u001B[39m\u001B[38;5;124m'\u001B[39m\n\u001B[1;32m      9\u001B[0m \u001B[38;5;28;01mimport\u001B[39;00m \u001B[38;5;21;01mlogging\u001B[39;00m\n\u001B[0;32m---> 11\u001B[0m \u001B[38;5;28;01mfrom\u001B[39;00m \u001B[38;5;21;01mgensim\u001B[39;00m \u001B[38;5;28;01mimport\u001B[39;00m parsing, corpora, matutils, interfaces, models, similarities, utils  \u001B[38;5;66;03m# noqa:F401\u001B[39;00m\n\u001B[1;32m     14\u001B[0m logger \u001B[38;5;241m=\u001B[39m logging\u001B[38;5;241m.\u001B[39mgetLogger(\u001B[38;5;124m'\u001B[39m\u001B[38;5;124mgensim\u001B[39m\u001B[38;5;124m'\u001B[39m)\n\u001B[1;32m     15\u001B[0m \u001B[38;5;28;01mif\u001B[39;00m \u001B[38;5;129;01mnot\u001B[39;00m logger\u001B[38;5;241m.\u001B[39mhandlers:  \u001B[38;5;66;03m# To ensure reload() doesn't add another one\u001B[39;00m\n",
      "File \u001B[0;32m/opt/anaconda3/lib/python3.11/site-packages/gensim/corpora/__init__.py:6\u001B[0m\n\u001B[1;32m      1\u001B[0m \u001B[38;5;124;03m\"\"\"\u001B[39;00m\n\u001B[1;32m      2\u001B[0m \u001B[38;5;124;03mThis package contains implementations of various streaming corpus I/O format.\u001B[39;00m\n\u001B[1;32m      3\u001B[0m \u001B[38;5;124;03m\"\"\"\u001B[39;00m\n\u001B[1;32m      5\u001B[0m \u001B[38;5;66;03m# bring corpus classes directly into package namespace, to save some typing\u001B[39;00m\n\u001B[0;32m----> 6\u001B[0m \u001B[38;5;28;01mfrom\u001B[39;00m \u001B[38;5;21;01m.\u001B[39;00m\u001B[38;5;21;01mindexedcorpus\u001B[39;00m \u001B[38;5;28;01mimport\u001B[39;00m IndexedCorpus  \u001B[38;5;66;03m# noqa:F401 must appear before the other classes\u001B[39;00m\n\u001B[1;32m      8\u001B[0m \u001B[38;5;28;01mfrom\u001B[39;00m \u001B[38;5;21;01m.\u001B[39;00m\u001B[38;5;21;01mmmcorpus\u001B[39;00m \u001B[38;5;28;01mimport\u001B[39;00m MmCorpus  \u001B[38;5;66;03m# noqa:F401\u001B[39;00m\n\u001B[1;32m      9\u001B[0m \u001B[38;5;28;01mfrom\u001B[39;00m \u001B[38;5;21;01m.\u001B[39;00m\u001B[38;5;21;01mbleicorpus\u001B[39;00m \u001B[38;5;28;01mimport\u001B[39;00m BleiCorpus  \u001B[38;5;66;03m# noqa:F401\u001B[39;00m\n",
      "File \u001B[0;32m/opt/anaconda3/lib/python3.11/site-packages/gensim/corpora/indexedcorpus.py:14\u001B[0m\n\u001B[1;32m     10\u001B[0m \u001B[38;5;28;01mimport\u001B[39;00m \u001B[38;5;21;01mlogging\u001B[39;00m\n\u001B[1;32m     12\u001B[0m \u001B[38;5;28;01mimport\u001B[39;00m \u001B[38;5;21;01mnumpy\u001B[39;00m\n\u001B[0;32m---> 14\u001B[0m \u001B[38;5;28;01mfrom\u001B[39;00m \u001B[38;5;21;01mgensim\u001B[39;00m \u001B[38;5;28;01mimport\u001B[39;00m interfaces, utils\n\u001B[1;32m     16\u001B[0m logger \u001B[38;5;241m=\u001B[39m logging\u001B[38;5;241m.\u001B[39mgetLogger(\u001B[38;5;18m__name__\u001B[39m)\n\u001B[1;32m     19\u001B[0m \u001B[38;5;28;01mclass\u001B[39;00m \u001B[38;5;21;01mIndexedCorpus\u001B[39;00m(interfaces\u001B[38;5;241m.\u001B[39mCorpusABC):\n",
      "File \u001B[0;32m/opt/anaconda3/lib/python3.11/site-packages/gensim/interfaces.py:19\u001B[0m\n\u001B[1;32m      7\u001B[0m \u001B[38;5;124;03m\"\"\"Basic interfaces used across the whole Gensim package.\u001B[39;00m\n\u001B[1;32m      8\u001B[0m \n\u001B[1;32m      9\u001B[0m \u001B[38;5;124;03mThese interfaces are used for building corpora, model transformation and similarity queries.\u001B[39;00m\n\u001B[0;32m   (...)\u001B[0m\n\u001B[1;32m     14\u001B[0m \n\u001B[1;32m     15\u001B[0m \u001B[38;5;124;03m\"\"\"\u001B[39;00m\n\u001B[1;32m     17\u001B[0m \u001B[38;5;28;01mimport\u001B[39;00m \u001B[38;5;21;01mlogging\u001B[39;00m\n\u001B[0;32m---> 19\u001B[0m \u001B[38;5;28;01mfrom\u001B[39;00m \u001B[38;5;21;01mgensim\u001B[39;00m \u001B[38;5;28;01mimport\u001B[39;00m utils, matutils\n\u001B[1;32m     22\u001B[0m logger \u001B[38;5;241m=\u001B[39m logging\u001B[38;5;241m.\u001B[39mgetLogger(\u001B[38;5;18m__name__\u001B[39m)\n\u001B[1;32m     25\u001B[0m \u001B[38;5;28;01mclass\u001B[39;00m \u001B[38;5;21;01mCorpusABC\u001B[39;00m(utils\u001B[38;5;241m.\u001B[39mSaveLoad):\n",
      "File \u001B[0;32m/opt/anaconda3/lib/python3.11/site-packages/gensim/matutils.py:19\u001B[0m\n\u001B[1;32m     17\u001B[0m \u001B[38;5;28;01mimport\u001B[39;00m \u001B[38;5;21;01mnumpy\u001B[39;00m \u001B[38;5;28;01mas\u001B[39;00m \u001B[38;5;21;01mnp\u001B[39;00m\n\u001B[1;32m     18\u001B[0m \u001B[38;5;28;01mimport\u001B[39;00m \u001B[38;5;21;01mscipy\u001B[39;00m\u001B[38;5;21;01m.\u001B[39;00m\u001B[38;5;21;01msparse\u001B[39;00m\n\u001B[0;32m---> 19\u001B[0m \u001B[38;5;28;01mfrom\u001B[39;00m \u001B[38;5;21;01mscipy\u001B[39;00m\u001B[38;5;21;01m.\u001B[39;00m\u001B[38;5;21;01mstats\u001B[39;00m \u001B[38;5;28;01mimport\u001B[39;00m entropy\n\u001B[1;32m     20\u001B[0m \u001B[38;5;28;01mfrom\u001B[39;00m \u001B[38;5;21;01mscipy\u001B[39;00m\u001B[38;5;21;01m.\u001B[39;00m\u001B[38;5;21;01mlinalg\u001B[39;00m \u001B[38;5;28;01mimport\u001B[39;00m get_blas_funcs, triu\n\u001B[1;32m     21\u001B[0m \u001B[38;5;28;01mfrom\u001B[39;00m \u001B[38;5;21;01mscipy\u001B[39;00m\u001B[38;5;21;01m.\u001B[39;00m\u001B[38;5;21;01mlinalg\u001B[39;00m\u001B[38;5;21;01m.\u001B[39;00m\u001B[38;5;21;01mlapack\u001B[39;00m \u001B[38;5;28;01mimport\u001B[39;00m get_lapack_funcs\n",
      "File \u001B[0;32m/opt/anaconda3/lib/python3.11/site-packages/scipy/stats/__init__.py:485\u001B[0m\n\u001B[1;32m      1\u001B[0m \u001B[38;5;124;03m\"\"\"\u001B[39;00m\n\u001B[1;32m      2\u001B[0m \u001B[38;5;124;03m.. _statsrefmanual:\u001B[39;00m\n\u001B[1;32m      3\u001B[0m \n\u001B[0;32m   (...)\u001B[0m\n\u001B[1;32m    480\u001B[0m \n\u001B[1;32m    481\u001B[0m \u001B[38;5;124;03m\"\"\"\u001B[39;00m\n\u001B[1;32m    483\u001B[0m \u001B[38;5;28;01mfrom\u001B[39;00m \u001B[38;5;21;01m.\u001B[39;00m\u001B[38;5;21;01m_warnings_errors\u001B[39;00m \u001B[38;5;28;01mimport\u001B[39;00m (ConstantInputWarning, NearConstantInputWarning,\n\u001B[1;32m    484\u001B[0m                                DegenerateDataWarning, FitError)\n\u001B[0;32m--> 485\u001B[0m \u001B[38;5;28;01mfrom\u001B[39;00m \u001B[38;5;21;01m.\u001B[39;00m\u001B[38;5;21;01m_stats_py\u001B[39;00m \u001B[38;5;28;01mimport\u001B[39;00m \u001B[38;5;241m*\u001B[39m\n\u001B[1;32m    486\u001B[0m \u001B[38;5;28;01mfrom\u001B[39;00m \u001B[38;5;21;01m.\u001B[39;00m\u001B[38;5;21;01m_variation\u001B[39;00m \u001B[38;5;28;01mimport\u001B[39;00m variation\n\u001B[1;32m    487\u001B[0m \u001B[38;5;28;01mfrom\u001B[39;00m \u001B[38;5;21;01m.\u001B[39;00m\u001B[38;5;21;01mdistributions\u001B[39;00m \u001B[38;5;28;01mimport\u001B[39;00m \u001B[38;5;241m*\u001B[39m\n",
      "File \u001B[0;32m/opt/anaconda3/lib/python3.11/site-packages/scipy/stats/_stats_py.py:46\u001B[0m\n\u001B[1;32m     44\u001B[0m \u001B[38;5;28;01mimport\u001B[39;00m \u001B[38;5;21;01mscipy\u001B[39;00m\u001B[38;5;21;01m.\u001B[39;00m\u001B[38;5;21;01mspecial\u001B[39;00m \u001B[38;5;28;01mas\u001B[39;00m \u001B[38;5;21;01mspecial\u001B[39;00m\n\u001B[1;32m     45\u001B[0m \u001B[38;5;28;01mfrom\u001B[39;00m \u001B[38;5;21;01mscipy\u001B[39;00m \u001B[38;5;28;01mimport\u001B[39;00m linalg\n\u001B[0;32m---> 46\u001B[0m \u001B[38;5;28;01mfrom\u001B[39;00m \u001B[38;5;21;01m.\u001B[39;00m \u001B[38;5;28;01mimport\u001B[39;00m distributions\n\u001B[1;32m     47\u001B[0m \u001B[38;5;28;01mfrom\u001B[39;00m \u001B[38;5;21;01m.\u001B[39;00m \u001B[38;5;28;01mimport\u001B[39;00m _mstats_basic \u001B[38;5;28;01mas\u001B[39;00m mstats_basic\n\u001B[1;32m     48\u001B[0m \u001B[38;5;28;01mfrom\u001B[39;00m \u001B[38;5;21;01m.\u001B[39;00m\u001B[38;5;21;01m_stats_mstats_common\u001B[39;00m \u001B[38;5;28;01mimport\u001B[39;00m (_find_repeats, linregress, theilslopes,\n\u001B[1;32m     49\u001B[0m                                    siegelslopes)\n",
      "File \u001B[0;32m/opt/anaconda3/lib/python3.11/site-packages/scipy/stats/distributions.py:11\u001B[0m\n\u001B[1;32m      8\u001B[0m \u001B[38;5;28;01mfrom\u001B[39;00m \u001B[38;5;21;01m.\u001B[39;00m\u001B[38;5;21;01m_distn_infrastructure\u001B[39;00m \u001B[38;5;28;01mimport\u001B[39;00m (rv_discrete, rv_continuous, rv_frozen)\n\u001B[1;32m     10\u001B[0m \u001B[38;5;28;01mfrom\u001B[39;00m \u001B[38;5;21;01m.\u001B[39;00m \u001B[38;5;28;01mimport\u001B[39;00m _continuous_distns\n\u001B[0;32m---> 11\u001B[0m \u001B[38;5;28;01mfrom\u001B[39;00m \u001B[38;5;21;01m.\u001B[39;00m \u001B[38;5;28;01mimport\u001B[39;00m _discrete_distns\n\u001B[1;32m     13\u001B[0m \u001B[38;5;28;01mfrom\u001B[39;00m \u001B[38;5;21;01m.\u001B[39;00m\u001B[38;5;21;01m_continuous_distns\u001B[39;00m \u001B[38;5;28;01mimport\u001B[39;00m \u001B[38;5;241m*\u001B[39m\n\u001B[1;32m     14\u001B[0m \u001B[38;5;28;01mfrom\u001B[39;00m \u001B[38;5;21;01m.\u001B[39;00m\u001B[38;5;21;01m_levy_stable\u001B[39;00m \u001B[38;5;28;01mimport\u001B[39;00m levy_stable\n",
      "File \u001B[0;32m/opt/anaconda3/lib/python3.11/site-packages/scipy/stats/_discrete_distns.py:11\u001B[0m\n\u001B[1;32m      9\u001B[0m \u001B[38;5;28;01mfrom\u001B[39;00m \u001B[38;5;21;01mscipy\u001B[39;00m\u001B[38;5;21;01m.\u001B[39;00m\u001B[38;5;21;01mspecial\u001B[39;00m \u001B[38;5;28;01mimport\u001B[39;00m entr, logsumexp, betaln, gammaln \u001B[38;5;28;01mas\u001B[39;00m gamln, zeta\n\u001B[1;32m     10\u001B[0m \u001B[38;5;28;01mfrom\u001B[39;00m \u001B[38;5;21;01mscipy\u001B[39;00m\u001B[38;5;21;01m.\u001B[39;00m\u001B[38;5;21;01m_lib\u001B[39;00m\u001B[38;5;21;01m.\u001B[39;00m\u001B[38;5;21;01m_util\u001B[39;00m \u001B[38;5;28;01mimport\u001B[39;00m _lazywhere, rng_integers\n\u001B[0;32m---> 11\u001B[0m \u001B[38;5;28;01mfrom\u001B[39;00m \u001B[38;5;21;01mscipy\u001B[39;00m\u001B[38;5;21;01m.\u001B[39;00m\u001B[38;5;21;01minterpolate\u001B[39;00m \u001B[38;5;28;01mimport\u001B[39;00m interp1d\n\u001B[1;32m     13\u001B[0m \u001B[38;5;28;01mfrom\u001B[39;00m \u001B[38;5;21;01mnumpy\u001B[39;00m \u001B[38;5;28;01mimport\u001B[39;00m floor, ceil, log, exp, sqrt, log1p, expm1, tanh, cosh, sinh\n\u001B[1;32m     15\u001B[0m \u001B[38;5;28;01mimport\u001B[39;00m \u001B[38;5;21;01mnumpy\u001B[39;00m \u001B[38;5;28;01mas\u001B[39;00m \u001B[38;5;21;01mnp\u001B[39;00m\n",
      "File \u001B[0;32m/opt/anaconda3/lib/python3.11/site-packages/scipy/interpolate/__init__.py:167\u001B[0m\n\u001B[1;32m      1\u001B[0m \u001B[38;5;124;03m\"\"\"\u001B[39;00m\n\u001B[1;32m      2\u001B[0m \u001B[38;5;124;03m========================================\u001B[39;00m\n\u001B[1;32m      3\u001B[0m \u001B[38;5;124;03mInterpolation (:mod:`scipy.interpolate`)\u001B[39;00m\n\u001B[0;32m   (...)\u001B[0m\n\u001B[1;32m    165\u001B[0m \u001B[38;5;124;03m(should not be used in new code).\u001B[39;00m\n\u001B[1;32m    166\u001B[0m \u001B[38;5;124;03m\"\"\"\u001B[39;00m\n\u001B[0;32m--> 167\u001B[0m \u001B[38;5;28;01mfrom\u001B[39;00m \u001B[38;5;21;01m.\u001B[39;00m\u001B[38;5;21;01m_interpolate\u001B[39;00m \u001B[38;5;28;01mimport\u001B[39;00m \u001B[38;5;241m*\u001B[39m\n\u001B[1;32m    168\u001B[0m \u001B[38;5;28;01mfrom\u001B[39;00m \u001B[38;5;21;01m.\u001B[39;00m\u001B[38;5;21;01m_fitpack_py\u001B[39;00m \u001B[38;5;28;01mimport\u001B[39;00m \u001B[38;5;241m*\u001B[39m\n\u001B[1;32m    170\u001B[0m \u001B[38;5;66;03m# New interface to fitpack library:\u001B[39;00m\n",
      "File \u001B[0;32m/opt/anaconda3/lib/python3.11/site-packages/scipy/interpolate/_interpolate.py:10\u001B[0m\n\u001B[1;32m      8\u001B[0m \u001B[38;5;28;01mimport\u001B[39;00m \u001B[38;5;21;01mscipy\u001B[39;00m\u001B[38;5;21;01m.\u001B[39;00m\u001B[38;5;21;01mspecial\u001B[39;00m \u001B[38;5;28;01mas\u001B[39;00m \u001B[38;5;21;01mspec\u001B[39;00m\n\u001B[1;32m      9\u001B[0m \u001B[38;5;28;01mfrom\u001B[39;00m \u001B[38;5;21;01mscipy\u001B[39;00m\u001B[38;5;21;01m.\u001B[39;00m\u001B[38;5;21;01mspecial\u001B[39;00m \u001B[38;5;28;01mimport\u001B[39;00m comb\n\u001B[0;32m---> 10\u001B[0m \u001B[38;5;28;01mfrom\u001B[39;00m \u001B[38;5;21;01mscipy\u001B[39;00m\u001B[38;5;21;01m.\u001B[39;00m\u001B[38;5;21;01m_lib\u001B[39;00m\u001B[38;5;21;01m.\u001B[39;00m\u001B[38;5;21;01m_util\u001B[39;00m \u001B[38;5;28;01mimport\u001B[39;00m prod\n\u001B[1;32m     12\u001B[0m \u001B[38;5;28;01mfrom\u001B[39;00m \u001B[38;5;21;01m.\u001B[39;00m \u001B[38;5;28;01mimport\u001B[39;00m _fitpack_py\n\u001B[1;32m     13\u001B[0m \u001B[38;5;28;01mfrom\u001B[39;00m \u001B[38;5;21;01m.\u001B[39;00m \u001B[38;5;28;01mimport\u001B[39;00m dfitpack\n",
      "\u001B[0;31mImportError\u001B[0m: cannot import name 'prod' from 'scipy._lib._util' (/opt/anaconda3/lib/python3.11/site-packages/scipy/_lib/_util.py)"
     ]
    }
   ]
  },
  {
   "cell_type": "code",
   "source": [
    "glove_vectors = gensim.downloader.load('glove-wiki-gigaword-50')"
   ],
   "metadata": {
    "colab": {
     "base_uri": "https://localhost:8080/"
    },
    "id": "WKEQ0svQ0_bu",
    "outputId": "d5ff20c7-8359-496c-cea3-2e7c3bcaa1bc",
    "ExecuteTime": {
     "end_time": "2024-09-19T16:28:39.915130Z",
     "start_time": "2024-09-19T16:28:39.914504Z"
    }
   },
   "execution_count": null,
   "outputs": []
  },
  {
   "cell_type": "code",
   "source": [
    "print('data type:', type(glove_vectors.vectors))\n",
    "print('# words:', glove_vectors.vectors.shape[0])\n",
    "print('Embedding dimension:', glove_vectors.vectors.shape[1])"
   ],
   "metadata": {
    "colab": {
     "base_uri": "https://localhost:8080/"
    },
    "id": "Emb5Z-y61Bb5",
    "outputId": "d6e820d3-8703-43a1-ea8f-49191cfbf68b",
    "ExecuteTime": {
     "start_time": "2024-09-19T16:28:39.915040Z"
    }
   },
   "execution_count": null,
   "outputs": []
  },
  {
   "cell_type": "markdown",
   "source": [
    "## B. Given a query word, find the top 10 words in the vocabulary that have the highest cosine similarity scores (10 points)"
   ],
   "metadata": {
    "id": "ZduEu4W61Lvq"
   }
  },
  {
   "cell_type": "code",
   "source": [
    "glove_vectors.most_similar('cat', topn=10)"
   ],
   "metadata": {
    "colab": {
     "base_uri": "https://localhost:8080/"
    },
    "id": "u4E-tYXy1Jly",
    "outputId": "33521847-e73c-4916-90fb-69ce4df2bb07",
    "ExecuteTime": {
     "end_time": "2024-09-19T16:28:39.934215Z",
     "start_time": "2024-09-19T16:28:39.916050Z"
    }
   },
   "execution_count": null,
   "outputs": []
  },
  {
   "cell_type": "markdown",
   "source": [
    "## You need to implement `my_most_similar()` that will do the same thing as the built-in `most_similar()` function above\n",
    "- cosine similarity: $\\frac{v_1 \\cdot v_2}{\\lVert v_1 \\rVert \\lVert v_2 \\rVert}$\n",
    "- $\\lVert v_1 \\rVert$ means the vector norm of $v_1$\n",
    "- We have a vocabulary of 400000 words. You should calculate the cosine similarity between `vec(query_word)` and `vec(any other words)`.\n",
    "- Find the top 10 words that have the highest cosine similarity with the query word.\n",
    "- Return a list of tuple, where each tuple contains a word (str) and its corresponding cosine similarity score (float) to the query word.\n",
    "- The following functions are the only built-in functions you are allowed to use for all the questions in Part 3:\n",
    "  - `glove_vectors.get_index()`, `glove_vectors.get_vector()`, `glove_vectors.index_to_key` (See how to use these functions below.)\n",
    "  - `np.dot()`, `np.sum()`, `np.argsort(), np.transpose()`\n",
    "- Hint: Do **not** include the query word itself in the top 10 words\n",
    "- Hint: To implement $\\sqrt{N}$, you can do `N**0.5`"
   ],
   "metadata": {
    "id": "b2CvdJZ41RcJ"
   }
  },
  {
   "cell_type": "code",
   "source": [
    "glove_vectors.get_index('apple') # get the index of a word in the vocabulary"
   ],
   "metadata": {
    "id": "IsWUyrr-nb4l",
    "outputId": "69351b70-9ad8-4677-d68a-c668eb58406d",
    "colab": {
     "base_uri": "https://localhost:8080/"
    },
    "ExecuteTime": {
     "start_time": "2024-09-19T16:28:39.917063Z"
    }
   },
   "execution_count": null,
   "outputs": []
  },
  {
   "cell_type": "code",
   "source": [
    "glove_vectors.index_to_key[3292] # index to word"
   ],
   "metadata": {
    "id": "Jg5oUogSneB7",
    "outputId": "ab4164c9-ff69-48f2-c5be-7f09e9784899",
    "colab": {
     "base_uri": "https://localhost:8080/",
     "height": 35
    },
    "ExecuteTime": {
     "start_time": "2024-09-19T16:28:39.918052Z"
    }
   },
   "execution_count": null,
   "outputs": []
  },
  {
   "cell_type": "code",
   "source": [
    "glove_vectors.get_vector(word) # get the word vector of a word"
   ],
   "metadata": {
    "id": "_vkbFKQ2nfuN",
    "outputId": "40db06dc-90ff-4b6d-e028-21fd8d2c5ca7",
    "colab": {
     "base_uri": "https://localhost:8080/",
     "height": 141
    },
    "ExecuteTime": {
     "start_time": "2024-09-19T16:28:39.919007Z"
    }
   },
   "execution_count": null,
   "outputs": []
  },
  {
   "cell_type": "code",
   "outputs": [],
   "source": [
    "def my_most_similar(glove_vectors, query_word, topn):\n",
    "    \"\"\"\n",
    "    Find the most similar words to a given query word based on cosine similarity in the GloVe embedding space.\n",
    "\n",
    "    Args:\n",
    "        glove_vectors (Gensim KeyedVectors)\n",
    "        query_word (str): The word for which to find the most similar words.\n",
    "        topn (int): The number of most similar words to return.\n",
    "\n",
    "    Returns:\n",
    "        list of tuples:\n",
    "            - Each tuple contains a word (str) and its corresponding cosine similarity score (float) to the query word.\n",
    "            - The list is sorted in descending order of cosine similarity.\n",
    "    \"\"\"\n",
    "    # W (numpy.ndarray): glove word embeddings of shape (400000, 50)\n",
    "    W = glove_vectors.vectors\n",
    "\n",
    "    # Your code here\n",
    "    def normalize(X):\n",
    "        squared_sums = np.sum(X * X, axis=1) if X.ndim > 1 else np.sum(X * X)\n",
    "        norms = squared_sums ** 0.5\n",
    "        return norms\n",
    "    \n",
    "    query_vector = glove_vectors.get_vector(query_word)\n",
    "    query_idx = glove_vectors.get_index(query_word)\n",
    "    \n",
    "    dot_product = np.dot(W, query_vector)    \n",
    "    W_norm = normalize(W)\n",
    "    query_vector_norm = normalize(query_vector)\n",
    "    cosine_similarities = dot_product / (W_norm * query_vector_norm)\n",
    "    \n",
    "    # query_vector_norm = query_vector / normalize(query_vector)\n",
    "    # W_norm = W / normalize(W)[:, np.newaxis]\n",
    "    # cosine_similarities = np.dot(W_norm, query_vector_norm)\n",
    "    \n",
    "    W_norm_1 = np.linalg.norm(W, axis=1)\n",
    "    query_vector_norm_1 = np.linalg.norm(query_vector)\n",
    "    cosine_similarities_1 = dot_product / (W_norm_1 * query_vector_norm_1)\n",
    "    \n",
    "    assert(np.equal(W_norm == W_norm_1))\n",
    "    assert(np.equal(query_vector_norm, query_vector_norm_1))\n",
    "    assert(np.equal(cosine_similarities, cosine_similarities_1))\n",
    "    \n",
    "    \n",
    "    \n",
    "    most_similar_indices = np.argsort(-cosine_similarities)\n",
    "\n",
    "    my_list = [(glove_vectors.index_to_key[i], cosine_similarities[i])\n",
    "               for i in most_similar_indices if i != query_idx][:topn]\n",
    "\n",
    "    assert len(my_list) == topn\n",
    "    return my_list"
   ],
   "metadata": {
    "collapsed": false,
    "ExecuteTime": {
     "start_time": "2024-09-19T16:28:39.920016Z"
    }
   }
  },
  {
   "cell_type": "markdown",
   "source": [
    "## C. What are the highest and lowest vector norms among all the word vectors? Answer with two values. (4 points)"
   ],
   "metadata": {
    "collapsed": false
   }
  },
  {
   "cell_type": "code",
   "outputs": [],
   "source": [
    "#Your code here\n",
    "W = glove_vectors.vectors\n",
    "def normalize(X):\n",
    "    squared_sums = np.sum(X * X, axis = 1)\n",
    "    norms = squared_sums ** 0.5\n",
    "    return norms\n",
    "\n",
    "norms = normalize(W)\n",
    "max_vector_norm = -float('inf')\n",
    "min_vector_norm = float('inf')\n",
    "for norm in norms:\n",
    "    if norm > max_vector_norm:\n",
    "        max_vector_norm = norm\n",
    "    if norm < min_vector_norm:\n",
    "        min_vector_norm = norm\n",
    "        \n",
    "print(f'max_vector_norm: {max_vector_norm:.3f}, min_vector_norm: {min_vector_norm:.3f}')"
   ],
   "metadata": {
    "collapsed": false,
    "ExecuteTime": {
     "start_time": "2024-09-19T16:28:39.920858Z"
    }
   },
   "execution_count": null
  },
  {
   "cell_type": "markdown",
   "source": [
    "## D. Why is cosine similarity better than dot product when calculating similarities between word vectors? (3 points)"
   ],
   "metadata": {
    "collapsed": false
   }
  },
  {
   "cell_type": "markdown",
   "source": [
    "Cosine similarity is better than dot product when calculating similarities between word vectors because it measures the angle between vectors, rather than their magnitudes. This makes it more effective at comparing vectors of different lengths, as it focuses on the direction of the vectors, not their size. In contrast, the dot product is influenced by both the direction and magnitude, which can distort the comparison, especially when dealing with documents of varying word counts. "
   ],
   "metadata": {
    "collapsed": false
   }
  },
  {
   "cell_type": "markdown",
   "source": [
    "## Your implementation of `my_most_similar()` should pass the test cases below"
   ],
   "metadata": {
    "collapsed": false
   }
  },
  {
   "cell_type": "code",
   "source": [
    "def diff_results(oracle_list, my_list):\n",
    "  for oracle, mine in zip(oracle_list, my_list):\n",
    "    assert oracle[0] == mine[0], \"find the wrong word\"\n",
    "    assert np.isclose(oracle[1], mine[1]), \"wrong consine similarity\"\n",
    "\n",
    "for query in ['computer', 'frog', 'car']:\n",
    "  oracle_list = glove_vectors.most_similar(query, topn=10)\n",
    "  my_list = my_most_similar(glove_vectors, query, topn=10)\n",
    "  diff_results(oracle_list, my_list)"
   ],
   "metadata": {
    "id": "r4Yi1lWK1c4X",
    "ExecuteTime": {
     "start_time": "2024-09-19T16:28:39.921523Z"
    }
   },
   "execution_count": null,
   "outputs": []
  },
  {
   "cell_type": "markdown",
   "source": [
    "## E. We visualize the word embeddings with PCA below. What do you see in the figure? (3 points)\n",
    "- Hint: Each dot corresponds to a word vector. Do you observe any meaningful direction between related words?\n",
    "- You do not need to write any code in this question"
   ],
   "metadata": {
    "id": "dD41_iZH2EYw"
   }
  },
  {
   "cell_type": "code",
   "source": [
    "from sklearn.decomposition import PCA\n",
    "pca = PCA(n_components=2)\n",
    "Z = pca.fit_transform(glove_vectors.vectors)"
   ],
   "metadata": {
    "id": "kSAPfG3L19kM",
    "ExecuteTime": {
     "start_time": "2024-09-19T16:28:39.922142Z"
    }
   },
   "execution_count": null,
   "outputs": []
  },
  {
   "cell_type": "code",
   "source": [
    "import matplotlib.pyplot as plt\n",
    "plt.figure(figsize=(10,5))\n",
    "for word in ['king', 'queen', 'lord', 'lady', 'prince', 'princess', 'men', 'women']:\n",
    "  point = Z[glove_vectors.get_index(word)]\n",
    "  plt.scatter(point[0], point[1], color='b')\n",
    "  plt.annotate(word, (point[0], point[1]))\n",
    "  plt.xticks([])\n",
    "  plt.yticks([])"
   ],
   "metadata": {
    "colab": {
     "base_uri": "https://localhost:8080/",
     "height": 422
    },
    "id": "0Jxt-2hc2H8r",
    "outputId": "c3971932-eb10-47b6-edcd-206a4cdbb87c",
    "ExecuteTime": {
     "start_time": "2024-09-19T16:28:39.922757Z"
    }
   },
   "execution_count": null,
   "outputs": []
  },
  {
   "cell_type": "markdown",
   "source": [
    "I observe that words typically associated with males, such as ‘king’, ‘prince’, and ‘lord’, are clustered in the top-left of the plot, while female-associated words, like ‘lady’, ‘princess’, and ‘queen’, are grouped together in the bottom-left. Also, word pairs that represent gender counterparts, such as ‘king’ and ‘queen’ or ‘prince’ and ‘princess’ or ‘lord’ and ‘lady’, are positioned somewhat opposite to each other along the y-axis, reflecting their opposing yet related meanings."
   ],
   "metadata": {
    "id": "gUyMqZ9v51HY"
   }
  },
  {
   "cell_type": "markdown",
   "source": [
    "## F. Word Analogy: prince is to princess as lord is to? (10 points)\n",
    "  - word1: `prince`, word2: `princess`, word3: `lord`\n",
    "  - `direction = vec(word2) - vec(word1)`\n",
    "  - `vec_tgt = vec(word3) + direction`\n",
    "  - Calcuate the cosine similarities between `vec_tgt` and all the words in the vocabulary, **except for word3**.\n",
    "  - Return the word that has the highest cosine similarity score."
   ],
   "metadata": {
    "id": "t9crJ6Dx3MCz"
   }
  },
  {
   "cell_type": "code",
   "source": [
    "def word_analogy(glove_vectors, word1, word2, word3):\n",
    "    \"\"\"\n",
    "    Args:\n",
    "        glove_vectors (Gensim KeyedVectors)\n",
    "        word1 (str): The first word in the analogy.\n",
    "        word2 (str): The second word in the analogy.\n",
    "        word3 (str): The third word in the analogy for which to find the analogous word.\n",
    "\n",
    "    Returns:\n",
    "        pred_word (str): The word that best completes the analogy.\n",
    "    \"\"\"\n",
    "\n",
    "    # Your code here\n",
    "    def normalize(X):\n",
    "        squared_sums = np.sum(X * X, axis=1) if X.ndim > 1 else np.sum(X * X)\n",
    "        norms = squared_sums ** 0.5\n",
    "        return norms\n",
    "    \n",
    "    v1, v2, v3 = glove_vectors.get_vector(word1), glove_vectors.get_vector(word2), glove_vectors.get_vector(word3)\n",
    "    vec_tgt = v2 - v1 + v3\n",
    "    vec_tgt_norm = vec_tgt / normalize(vec_tgt)\n",
    "\n",
    "    W = glove_vectors.vectors\n",
    "    W_norm = W / normalize(W)[:, np.newaxis]\n",
    "    cosine_similarities = np.dot(W_norm, vec_tgt_norm)\n",
    "\n",
    "    indx_word3 = glove_vectors.get_index(word3)\n",
    "    indx_highest_similarity = np.argsort([cosine_similarities[i] if i != indx_word3 else -np.inf for i in range(len(cosine_similarities))])[-1]\n",
    "\n",
    "    pred_word = glove_vectors.index_to_key[indx_highest_similarity]\n",
    "\n",
    "    print(f'{word1} is to {word2} as {word3} is to? {pred_word}')\n",
    "    assert pred_word != word3\n",
    "    return pred_word"
   ],
   "metadata": {
    "id": "i51kuBJr3UW0",
    "ExecuteTime": {
     "start_time": "2024-09-19T16:28:39.923361Z"
    }
   },
   "execution_count": null,
   "outputs": []
  },
  {
   "cell_type": "code",
   "source": [
    "pred_word = word_analogy(glove_vectors, 'prince', 'princess', 'lord')\n",
    "pred_word = word_analogy(glove_vectors, 'aunt', 'uncle', 'queen')\n",
    "pred_word = word_analogy(glove_vectors, 'london', 'england', 'paris')\n",
    "pred_word = word_analogy(glove_vectors, 'cat', 'cats', 'car')"
   ],
   "metadata": {
    "id": "y1e-zPgb9Gul",
    "outputId": "e72a889d-bc92-439c-9468-d1af7661fb27",
    "colab": {
     "base_uri": "https://localhost:8080/"
    },
    "ExecuteTime": {
     "start_time": "2024-09-19T16:28:39.924052Z"
    }
   },
   "execution_count": null,
   "outputs": []
  }
 ]
}
