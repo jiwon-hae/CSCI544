{
  "nbformat": 4,
  "nbformat_minor": 0,
  "metadata": {
    "colab": {
      "provenance": [],
      "include_colab_link": true
    },
    "kernelspec": {
      "name": "python3",
      "language": "python",
      "display_name": "Python 3 (ipykernel)"
    },
    "language_info": {
      "name": "python"
    }
  },
  "cells": [
    {
      "cell_type": "markdown",
      "metadata": {
        "id": "view-in-github",
        "colab_type": "text"
      },
      "source": [
        "<a href=\"https://colab.research.google.com/github/jiwon-hae/CSCI544/blob/main/Official_CSCI544_HW1.ipynb\" target=\"_parent\"><img src=\"https://colab.research.google.com/assets/colab-badge.svg\" alt=\"Open In Colab\"/></a>"
      ]
    },
    {
      "cell_type": "markdown",
      "source": [
        "#Part 1. n-Gram Language Models (30 points)\n",
        "\n",
        "Create 1-5-gram language models trained on the tiny shakespeare dataset. The relevant probabilities P(word|context) will be stored in Python dictionaries. Do not use any smoothing or back-off (until Question 4). Pay special attention to beginning and end of sequences in the modeling process.\n",
        "\n",
        "In this section, you may only use libraries imported in the original template."
      ],
      "metadata": {
        "id": "lOHLpU5y0Wgo"
      }
    },
    {
      "cell_type": "code",
      "source": [
        "# Import Libaries\n",
        "import requests\n",
        "import collections\n",
        "import random\n",
        "import math"
      ],
      "metadata": {
        "id": "KQ0G021VWiOh",
        "ExecuteTime": {
          "end_time": "2024-09-19T17:45:12.644314Z",
          "start_time": "2024-09-19T17:45:12.450704Z"
        }
      },
      "execution_count": 1,
      "outputs": []
    },
    {
      "cell_type": "code",
      "source": [
        "url = \"https://raw.githubusercontent.com/karpathy/char-rnn/master/data/tinyshakespeare/input.txt\"\n",
        "response = requests.get(url)\n",
        "response.raise_for_status() # Raise an exception for invalid HTTP status codes\n",
        "text_data = response.text\n",
        "len(text_data), text_data[:100]"
      ],
      "metadata": {
        "id": "Ya2CfD3vWk2_",
        "outputId": "d837bc4b-b6e6-482d-a933-c5ff7f83931d",
        "colab": {
          "base_uri": "https://localhost:8080/"
        },
        "ExecuteTime": {
          "end_time": "2024-09-19T17:45:12.940127Z",
          "start_time": "2024-09-19T17:45:12.644411Z"
        }
      },
      "execution_count": 2,
      "outputs": [
        {
          "output_type": "execute_result",
          "data": {
            "text/plain": [
              "(1115394,\n",
              " 'First Citizen:\\nBefore we proceed any further, hear me speak.\\n\\nAll:\\nSpeak, speak.\\n\\nFirst Citizen:\\nYou')"
            ]
          },
          "metadata": {},
          "execution_count": 2
        }
      ]
    },
    {
      "cell_type": "code",
      "source": [
        "# sample\n",
        "random.seed(42)\n",
        "\n",
        "pos = random.randint(0, len(text_data) - 1000)\n",
        "print(text_data[pos:pos+100])"
      ],
      "metadata": {
        "id": "HtJfs33cWmBJ",
        "outputId": "10418fa3-f054-4ce6-d8ab-9facb62af0c9",
        "colab": {
          "base_uri": "https://localhost:8080/"
        },
        "ExecuteTime": {
          "end_time": "2024-09-19T17:45:12.941337Z",
          "start_time": "2024-09-19T17:45:12.936485Z"
        }
      },
      "execution_count": 3,
      "outputs": [
        {
          "output_type": "stream",
          "name": "stdout",
          "text": [
            "BY:\n",
            "Many good morrows to my noble lord!\n",
            "\n",
            "HASTINGS:\n",
            "Good morrow, Catesby; you are early stirring\n",
            "What\n"
          ]
        }
      ]
    },
    {
      "cell_type": "code",
      "source": [
        "# preprocessing - do not change\n",
        "def preprocess_text(text_data):\n",
        "  text_data = text_data.replace(',',' , ').replace(';', ' ').replace(':', ' ').replace('.',' . ').replace('?',' ? ').replace('!',' ! ')\n",
        "  text_data = text_data.replace('-', ' ')\n",
        "  text_data = text_data.replace('\\'', '').replace('\"', '')\n",
        "  text_data = text_data.replace('  ', ' ')\n",
        "  text_data = text_data.replace('\\n\\n','\\n').replace('\\n',' </s> <s> ')\n",
        "  text_data = '<s> ' + text_data + ' </s>'\n",
        "  text_data = text_data.lower()\n",
        "  return text_data\n",
        "\n",
        "text_data = preprocess_text(response.text)\n",
        "print(f\"Number of words: {len(text_data.split(' '))}\")"
      ],
      "metadata": {
        "id": "SaPIqFwHWpA3",
        "outputId": "f692bfc9-6e4a-45b0-f1fe-03600fb00005",
        "colab": {
          "base_uri": "https://localhost:8080/"
        },
        "ExecuteTime": {
          "end_time": "2024-09-19T17:45:12.992098Z",
          "start_time": "2024-09-19T17:45:12.939370Z"
        }
      },
      "execution_count": 4,
      "outputs": [
        {
          "output_type": "stream",
          "name": "stdout",
          "text": [
            "Number of words: 328097\n"
          ]
        }
      ]
    },
    {
      "cell_type": "code",
      "source": [
        "train_data = text_data[:-10_000]\n",
        "test_data = text_data[-10_000:]\n",
        "len(train_data), len(test_data)"
      ],
      "metadata": {
        "id": "cnHQ-enjWqVb",
        "outputId": "d95d8465-a3d7-4fc5-cbef-7e2252d76e18",
        "colab": {
          "base_uri": "https://localhost:8080/"
        },
        "ExecuteTime": {
          "end_time": "2024-09-19T17:45:13.006346Z",
          "start_time": "2024-09-19T17:45:12.970448Z"
        }
      },
      "execution_count": 5,
      "outputs": [
        {
          "output_type": "execute_result",
          "data": {
            "text/plain": [
              "(1431030, 10000)"
            ]
          },
          "metadata": {},
          "execution_count": 5
        }
      ]
    },
    {
      "cell_type": "code",
      "source": [
        "vocab = set(train_data.split(' '))\n",
        "print(f\"Number of unique words: {len(vocab)}\")\n",
        "print(f\"Sample unique words: {list(vocab)[:10]}\")"
      ],
      "metadata": {
        "id": "IrYnPsMKWrvG",
        "outputId": "9852fdf2-8b66-4848-a29a-8a8d3c8a273f",
        "colab": {
          "base_uri": "https://localhost:8080/"
        },
        "ExecuteTime": {
          "end_time": "2024-09-19T17:45:13.041915Z",
          "start_time": "2024-09-19T17:45:12.973104Z"
        }
      },
      "execution_count": 6,
      "outputs": [
        {
          "output_type": "stream",
          "name": "stdout",
          "text": [
            "Number of unique words: 12124\n",
            "Sample unique words: ['', 'cleave', 'prophecy', 'resteth', 'forward', 'unfurnished', 'hiss', 'unbind', 'true', 'untangled']\n"
          ]
        }
      ]
    },
    {
      "cell_type": "markdown",
      "source": [
        " ## A. Dealing with Out of Vocabulary Words  (5 Points)\n",
        "\n",
        "We want a way to handle words that did not appear in the train set. Create a list of out of vocabulary words by identifying words that appear in the train dataset less than 3 times.\n",
        "\n",
        "**Hint:** You can split the dataset into terms by using corpus.split(' '). You can assume the results will be valid word tokens. No more preprocessing is necessary."
      ],
      "metadata": {
        "id": "9YO9DwrkWuQQ"
      }
    },
    {
      "cell_type": "code",
      "source": [
        "def identify_oov_words(corpus, n=3):\n",
        "    \"\"\"\n",
        "    Identify out-of-vocabulary (OOV) words that appear less than `n` times in the dataset.\n",
        "\n",
        "    Parameters:\n",
        "    - dataset: The dataset to process. It should be a dictionary with a 'text' key.\n",
        "    - n: The frequency threshold below which words are considered OOV.\n",
        "\n",
        "    Returns:\n",
        "    - A set of out-of-vocabulary words.\n",
        "    \"\"\"\n",
        "    # INSERT CODE HERE\n",
        "    counter = {}\n",
        "    for c in corpus.split():\n",
        "      if c not in counter:\n",
        "        counter[c] = 0\n",
        "      counter[c] += 1\n",
        "\n",
        "    oov = [key for key, val in counter.items() if val < n]\n",
        "    return set(oov)"
      ],
      "metadata": {
        "id": "CzuEDZoZWs7t",
        "ExecuteTime": {
          "end_time": "2024-09-19T17:45:13.043872Z",
          "start_time": "2024-09-19T17:45:12.994751Z"
        }
      },
      "execution_count": 7,
      "outputs": []
    },
    {
      "cell_type": "code",
      "source": [
        "oov_words = identify_oov_words(train_data)\n",
        "\n",
        "vocab = vocab - oov_words\n",
        "vocab.add('<UNK>')\n",
        "print(f\"Number of OOV words: {len(oov_words)}\")\n",
        "print(f\"Expected number of OOV words: {7181}\")\n",
        "\n",
        "assert len(oov_words) == 7181"
      ],
      "metadata": {
        "id": "S3_q0smRW2Ex",
        "outputId": "1b1a8d84-6285-4255-abdf-daa6fc71db61",
        "colab": {
          "base_uri": "https://localhost:8080/"
        },
        "ExecuteTime": {
          "end_time": "2024-09-19T17:45:13.060612Z",
          "start_time": "2024-09-19T17:45:13.021262Z"
        }
      },
      "execution_count": 8,
      "outputs": [
        {
          "output_type": "stream",
          "name": "stdout",
          "text": [
            "Number of OOV words: 7181\n",
            "Expected number of OOV words: 7181\n"
          ]
        }
      ]
    },
    {
      "cell_type": "code",
      "source": [
        "train_data = ' '.join(['<UNK>' if word not in vocab else word for word in train_data.split(' ')])\n",
        "test_data = ' '.join(['<UNK>' if word not in vocab else word for word in test_data.split(' ')])"
      ],
      "metadata": {
        "id": "L60G-KIEW5KA",
        "ExecuteTime": {
          "end_time": "2024-09-19T17:45:13.126255Z",
          "start_time": "2024-09-19T17:45:13.058876Z"
        }
      },
      "execution_count": 9,
      "outputs": []
    },
    {
      "cell_type": "markdown",
      "source": [
        "## B. Create the N-Gram Models (12 Points)\n",
        "In this section, we will train several N-Gram models on ONLY the train_data.\n",
        "\n",
        "First, calculate the counts of each N-Gram."
      ],
      "metadata": {
        "id": "LHKNJJ-gW6qh"
      }
    },
    {
      "cell_type": "code",
      "source": [
        "uni_counts = collections.defaultdict(lambda:0)\n",
        "bi_counts = collections.defaultdict(lambda:0)\n",
        "tri_counts = collections.defaultdict(lambda:0)\n",
        "four_counts = collections.defaultdict(lambda:0)\n",
        "five_counts = collections.defaultdict(lambda:0)"
      ],
      "metadata": {
        "id": "s6p1troiW9lF",
        "ExecuteTime": {
          "end_time": "2024-09-19T17:45:13.127307Z",
          "start_time": "2024-09-19T17:45:13.062292Z"
        }
      },
      "execution_count": 10,
      "outputs": []
    },
    {
      "cell_type": "code",
      "source": [
        "# INSERT CODE HERE\n",
        "token = train_data.split(' ')\n",
        "\n",
        "def calculate_ngram_counts(dataset, count, n):\n",
        "  for i in range(len(dataset) - (n - 1)):\n",
        "    n_gram = tuple(dataset[i:i+n]) if n > 1 else (dataset[i], )\n",
        "    count[n_gram] += 1\n",
        "\n",
        "calculate_ngram_counts(token, uni_counts, 1)\n",
        "calculate_ngram_counts(token, bi_counts, 2)\n",
        "calculate_ngram_counts(token, tri_counts, 3)\n",
        "calculate_ngram_counts(token, four_counts, 4)\n",
        "calculate_ngram_counts(token, five_counts, 5)"
      ],
      "metadata": {
        "id": "nY3UMFE6W_ys",
        "ExecuteTime": {
          "end_time": "2024-09-19T17:45:13.502707Z",
          "start_time": "2024-09-19T17:45:13.120133Z"
        }
      },
      "execution_count": 11,
      "outputs": []
    },
    {
      "cell_type": "markdown",
      "source": [
        "Next, implement the N-Gram models themselves."
      ],
      "metadata": {
        "id": "7DdgHEI5XB0H"
      }
    },
    {
      "cell_type": "code",
      "source": [
        "uni = collections.defaultdict(lambda:0)\n",
        "bi = collections.defaultdict(lambda:0)\n",
        "tri = collections.defaultdict(lambda:0)\n",
        "four = collections.defaultdict(lambda:0)\n",
        "five = collections.defaultdict(lambda:0)"
      ],
      "metadata": {
        "id": "-aACGp05XAVW",
        "ExecuteTime": {
          "end_time": "2024-09-19T17:45:13.517396Z",
          "start_time": "2024-09-19T17:45:13.503119Z"
        }
      },
      "execution_count": 12,
      "outputs": []
    },
    {
      "cell_type": "code",
      "source": [
        "# INSERT CODE HERE\n",
        "def build_ngram(n_gram, count, prev_count, n):\n",
        "  for key in count.keys():\n",
        "    if n == 1 :\n",
        "      total_count = sum(count.values())\n",
        "      n_gram[key[0]] = count[key] / total_count\n",
        "    else:\n",
        "      prev = key[:-1]\n",
        "      n_gram[key] = count[key] / prev_count[prev]\n",
        "\n",
        "build_ngram(uni, uni_counts, None, 1)\n",
        "build_ngram(bi, bi_counts, uni_counts, 2)\n",
        "build_ngram(tri, tri_counts, bi_counts, 3)\n",
        "build_ngram(four, four_counts, tri_counts, 4)\n",
        "build_ngram(five, five_counts, four_counts, 5)"
      ],
      "metadata": {
        "id": "CBnpHlliY3wP",
        "ExecuteTime": {
          "end_time": "2024-09-19T17:45:13.792747Z",
          "start_time": "2024-09-19T17:45:13.511180Z"
        }
      },
      "execution_count": 13,
      "outputs": []
    },
    {
      "cell_type": "code",
      "source": [
        "# Evaluation\n",
        "assert five[('<s>', 'against', 'the', 'roman', 'state')] == 1.0 # prob of last given prev 4\n",
        "assert four[('remain', '</s>', '<s>', 'i')] == 0.25 # prob of last given prev 3\n",
        "assert tri[('did', 'see', 'and')] == 0.5 # prob of last given prev 2\n",
        "assert bi[('rash', 'like')] == 0.1 # prob of last given prev 1\n",
        "assert round(uni[('citizen')],5) == 0.00031 # prob of last"
      ],
      "metadata": {
        "id": "CUgTaWzVXDsQ",
        "ExecuteTime": {
          "end_time": "2024-09-19T17:45:13.795749Z",
          "start_time": "2024-09-19T17:45:13.793384Z"
        }
      },
      "execution_count": 14,
      "outputs": []
    },
    {
      "cell_type": "markdown",
      "source": [
        "## C. Laplace Smoothing (6 Points)\n",
        "\n",
        "From now on, we will **focus our attention to the bigram model**. Reimplement the bigram model using Laplacian Smoothing."
      ],
      "metadata": {
        "id": "Le7l1pSAXGWq"
      }
    },
    {
      "cell_type": "code",
      "source": [
        "def calculate_bigram_probability_with_smoothing(word1, word2):\n",
        "  # INSERT CODE HERE\n",
        "  bigram = (word1, word2)\n",
        "  unigram = (word1, )\n",
        "\n",
        "  bigram_cnt = bi_counts[bigram] + 1\n",
        "  unigram_cnt = uni_counts[unigram] + len(vocab)\n",
        "\n",
        "  return bigram_cnt / unigram_cnt"
      ],
      "metadata": {
        "id": "sVXNg0bZXLfM",
        "ExecuteTime": {
          "end_time": "2024-09-19T17:45:13.797883Z",
          "start_time": "2024-09-19T17:45:13.795634Z"
        }
      },
      "execution_count": 15,
      "outputs": []
    },
    {
      "cell_type": "markdown",
      "source": [
        "## D. Evaluate Perplexity (7 Points)\n",
        "\n",
        "Now let's evaluate the smoothed bigram model quantitively using the intrinsic metric **perplexity**.\n",
        "\n",
        "Recall perplexity is the inverse probability of the test text\n",
        "$$\\text{ppl}(w_1, \\dots, w_n) = p(w_1, \\dots, w_n)^{-\\frac{1}{N}}$$\n",
        "\n",
        "For an n-gram model, perplexity is computed by\n",
        "$$\\text{ppl}(w_1, \\dots, w_n) = (\\prod_i p(w_{i+n}|w_i^{i+n-1})^{-\\frac{1}{N}}$$\n",
        "\n",
        "To get rid of numerical issue, we usually compute through:\n",
        "$$\\text{ppl}(w_1, \\dots, w_n) = \\exp(-\\frac{1}{N}\\sum_i \\log p(w_{i+n}|w_i^{i+n-1}))$$\n",
        "\n",
        "Note that you do NOT need to optimize the language model in any way so as to minimize perplexity. Your reported perplexity will have no correlation with your score on this assignment, as far as it is implemented correctly.\n",
        "\n",
        "**HINT:** Use the calculate_bigram_probability_with_smoothing function created above."
      ],
      "metadata": {
        "id": "p70s9JZcXQIC"
      }
    },
    {
      "cell_type": "code",
      "source": [
        "def compute_perplexity(data):\n",
        "  \"\"\"\n",
        "    Computes the perplexity of a given text data using a bigram language model.\n",
        "\n",
        "    Parameters:\n",
        "    - data : str\n",
        "    Returns:\n",
        "    - float\n",
        "  \"\"\"\n",
        "\n",
        "  assert len(data.split(' ')) >= 5\n",
        "  # Hint: You should use the math library for exp and log\n",
        "  # INSERT CODE HERE\n",
        "  tokens = data.split(' ')\n",
        "  N = len(tokens)\n",
        "  log_prob_sum = 0\n",
        "\n",
        "  for i in range(1, N):\n",
        "    word1 = tokens[i-1]\n",
        "    word2 = tokens[i]\n",
        "\n",
        "    prob = calculate_bigram_probability_with_smoothing(word1, word2)\n",
        "    log_prob_sum += math.log(prob)\n",
        "\n",
        "  perplexity = math.exp(-log_prob_sum / N)\n",
        "  return perplexity"
      ],
      "metadata": {
        "id": "pqODu8L-XPS9",
        "ExecuteTime": {
          "end_time": "2024-09-19T17:45:13.800185Z",
          "start_time": "2024-09-19T17:45:13.798095Z"
        }
      },
      "execution_count": 16,
      "outputs": []
    },
    {
      "cell_type": "code",
      "source": [
        "assert round(compute_perplexity(test_data)) == 129"
      ],
      "metadata": {
        "id": "vVLFr2EfXWOH",
        "ExecuteTime": {
          "end_time": "2024-09-19T17:45:13.806750Z",
          "start_time": "2024-09-19T17:45:13.801639Z"
        }
      },
      "execution_count": 17,
      "outputs": []
    },
    {
      "cell_type": "markdown",
      "source": [
        "# Part 2. Logistic Regression (40 points)\n",
        "\n"
      ],
      "metadata": {
        "id": "c-evK15Gwf3_"
      }
    },
    {
      "cell_type": "markdown",
      "source": [
        " In this question, you will be guided to implement logistic regression classifer from scratch. You will use LR classifer to do sentiment analysis task on Twitter dataset (the dataset is provided in the code)."
      ],
      "metadata": {
        "id": "1iiTuJWnfhA5"
      }
    },
    {
      "cell_type": "markdown",
      "source": [
        "## Import Data"
      ],
      "metadata": {
        "id": "M7etuJ5pwymq"
      }
    },
    {
      "cell_type": "code",
      "source": [
        "# run this cell to import nltk\n",
        "import nltk"
      ],
      "metadata": {
        "id": "Tw63O_jqwfJ1",
        "ExecuteTime": {
          "end_time": "2024-09-19T17:45:14.674078Z",
          "start_time": "2024-09-19T17:45:13.803202Z"
        }
      },
      "execution_count": 18,
      "outputs": []
    },
    {
      "cell_type": "code",
      "source": [
        "nltk.download('twitter_samples')\n",
        "nltk.download('stopwords')\n",
        "# you only need to run it once"
      ],
      "metadata": {
        "id": "HotoYOViw3Bv",
        "outputId": "a58132bb-4895-4a9c-8bca-ea16c414db63",
        "colab": {
          "base_uri": "https://localhost:8080/"
        },
        "ExecuteTime": {
          "end_time": "2024-09-19T17:45:14.793074Z",
          "start_time": "2024-09-19T17:45:14.674786Z"
        }
      },
      "execution_count": 19,
      "outputs": [
        {
          "output_type": "stream",
          "name": "stderr",
          "text": [
            "[nltk_data] Downloading package twitter_samples to /root/nltk_data...\n",
            "[nltk_data]   Package twitter_samples is already up-to-date!\n",
            "[nltk_data] Downloading package stopwords to /root/nltk_data...\n",
            "[nltk_data]   Package stopwords is already up-to-date!\n"
          ]
        },
        {
          "output_type": "execute_result",
          "data": {
            "text/plain": [
              "True"
            ]
          },
          "metadata": {},
          "execution_count": 19
        }
      ]
    },
    {
      "cell_type": "code",
      "source": [
        "import numpy as np\n",
        "import pandas as pd\n",
        "from nltk.corpus import twitter_samples\n",
        "import re\n",
        "import string\n",
        "\n",
        "from nltk.corpus import stopwords\n",
        "from nltk.stem import PorterStemmer\n",
        "from nltk.tokenize import TweetTokenizer"
      ],
      "metadata": {
        "id": "O8KazUgww7rU",
        "ExecuteTime": {
          "end_time": "2024-09-19T17:45:15.068399Z",
          "start_time": "2024-09-19T17:45:14.793086Z"
        }
      },
      "execution_count": 20,
      "outputs": []
    },
    {
      "cell_type": "markdown",
      "source": [
        "## Prepare the data\n",
        "* You do not need to split the data. We provide the code for you and you just need to run the code below.\n"
      ],
      "metadata": {
        "id": "0zmbOD3-xgpf"
      }
    },
    {
      "cell_type": "code",
      "source": [
        "# select the set of positive and negative tweets\n",
        "all_positive_tweets = twitter_samples.strings('positive_tweets.json')\n",
        "all_negative_tweets = twitter_samples.strings('negative_tweets.json')"
      ],
      "metadata": {
        "id": "lq8Rr5R4xc8d",
        "ExecuteTime": {
          "end_time": "2024-09-19T17:45:15.335841Z",
          "start_time": "2024-09-19T17:45:15.061435Z"
        }
      },
      "execution_count": 21,
      "outputs": []
    },
    {
      "cell_type": "markdown",
      "source": [
        "* Train test split: 20% will be in the test set, and 80% in the training set.\n"
      ],
      "metadata": {
        "id": "pd-qM1SBxlQw"
      }
    },
    {
      "cell_type": "code",
      "source": [
        "# split the data into two pieces, one for training and one for testing (validation set)\n",
        "test_pos = all_positive_tweets[4000:]\n",
        "train_pos = all_positive_tweets[:4000]\n",
        "test_neg = all_negative_tweets[4000:]\n",
        "train_neg = all_negative_tweets[:4000]\n",
        "\n",
        "train_x = train_pos + train_neg\n",
        "test_x = test_pos + test_neg"
      ],
      "metadata": {
        "id": "SJsYMwnoxodO",
        "ExecuteTime": {
          "end_time": "2024-09-19T17:45:15.338408Z",
          "start_time": "2024-09-19T17:45:15.336393Z"
        }
      },
      "execution_count": 22,
      "outputs": []
    },
    {
      "cell_type": "markdown",
      "source": [
        "* Create the numpy array of positive labels and negative labels."
      ],
      "metadata": {
        "id": "usI6KCj6xtBX"
      }
    },
    {
      "cell_type": "code",
      "source": [
        "# combine positive and negative labels\n",
        "train_y = np.append(np.ones((len(train_pos), 1)), np.zeros((len(train_neg), 1)), axis=0)\n",
        "test_y = np.append(np.ones((len(test_pos), 1)), np.zeros((len(test_neg), 1)), axis=0)"
      ],
      "metadata": {
        "id": "CVEhgGkix0UR",
        "ExecuteTime": {
          "end_time": "2024-09-19T17:45:15.340907Z",
          "start_time": "2024-09-19T17:45:15.338570Z"
        }
      },
      "execution_count": 23,
      "outputs": []
    },
    {
      "cell_type": "markdown",
      "source": [
        "## A.  Text processing (6 points)\n",
        "\n",
        "\n",
        "\n",
        "\n",
        "\n",
        "\n",
        "*   Remove old style retweet with 'RT' in the sentence\n",
        "*   Remove hyperlinks\n",
        "\n",
        "*   Remove hashtag\n",
        "*   Tokenize the sentence using TweetTokenizer\n",
        "\n",
        "\n",
        "*   Remove stop words\n",
        "*   Use PorterStemmer to create stem of words in tweet\n",
        "\n",
        "\n",
        "\n",
        "\n",
        "\n",
        "\n",
        "\n",
        "\n",
        "\n",
        "\n"
      ],
      "metadata": {
        "id": "vqd8BjfkxDaI"
      }
    },
    {
      "cell_type": "code",
      "source": [
        "def process_tweet(tweet):\n",
        "  # write your code here\n",
        "  def remove_rt(tw):\n",
        "    re_rt = re.compile('RT[\\s]+')\n",
        "    return re_rt.sub(r'', tw)\n",
        "\n",
        "  def remove_hyperlink(tw):\n",
        "    re_url = re.compile('https?://\\S+|www\\.\\S+')\n",
        "    return re_url.sub(r'', tw)\n",
        "\n",
        "  def remove_hashtag(tw):\n",
        "    re_hashtag = re.compile(\"#\\w+\")\n",
        "    return re_hashtag.sub(r'', tw)\n",
        "\n",
        "  def remove_stopwords(token):\n",
        "    s = stopwords.words('english')\n",
        "    return [i for i in token if i not in s]\n",
        "\n",
        "  tweet = remove_rt(tweet)\n",
        "  tweet = remove_hyperlink(tweet)\n",
        "  tweet = remove_hashtag(tweet)\n",
        "\n",
        "  tweet_tokenizer = TweetTokenizer(preserve_case = False)\n",
        "  tokens = tweet_tokenizer.tokenize(tweet)\n",
        "  filtered_tokens = remove_stopwords(tokens)\n",
        "\n",
        "  ps = PorterStemmer()\n",
        "  stemmed_words = [ps.stem(token) for token in filtered_tokens]\n",
        "  return stemmed_words"
      ],
      "metadata": {
        "id": "Cp6zvJ3uw-rP",
        "ExecuteTime": {
          "end_time": "2024-09-19T17:45:15.352974Z",
          "start_time": "2024-09-19T17:45:15.341771Z"
        }
      },
      "execution_count": 24,
      "outputs": []
    },
    {
      "cell_type": "markdown",
      "source": [
        "We will create a function that will take tweets and their labels as input, go through every tweet, preprocess them, count the occurrence of every word in the data set and create a frequency dictionary.\n",
        "\n",
        "Notice how the outer for loop goes through each tweet, and the inner for loop steps through each word in a tweet.\n",
        "The freqs dictionary is the frequency dictionary that's being built.\n",
        "The key is the tuple (word, label), such as (\"happy\",1) or (\"happy\",0). The value stored for each key is the count of how many times the word \"happy\" was associated with a positive label, or how many times \"happy\" was associated with a negative label."
      ],
      "metadata": {
        "id": "SeW_hTjhxTQz"
      }
    },
    {
      "cell_type": "code",
      "source": [
        "def build_freqs(tweets, ys):\n",
        "\n",
        "    # write your code here\n",
        "    freqs = {}\n",
        "    for tw, label in zip(tweets, ys):\n",
        "      p_tweet = process_tweet(tw)\n",
        "      label = label.item()\n",
        "\n",
        "      for t in p_tweet:\n",
        "        key = (t, label)\n",
        "        if key not in freqs:\n",
        "          freqs[key] = 0\n",
        "        freqs[key] += 1\n",
        "    return freqs"
      ],
      "metadata": {
        "id": "L-s8dg8NxX4i",
        "ExecuteTime": {
          "end_time": "2024-09-19T17:45:15.354072Z",
          "start_time": "2024-09-19T17:45:15.344172Z"
        }
      },
      "execution_count": 25,
      "outputs": []
    },
    {
      "cell_type": "markdown",
      "source": [
        "## B. Logistic regression (16 points)\n",
        "\n",
        "\n",
        "### Sigmoid (4 points)\n",
        "\n",
        "You will learn to use logistic regression for text classification.\n",
        "* The sigmoid function is defined as:\n",
        "\n",
        "$$ h(z) = \\frac{1}{1+\\exp^{-z}} \\tag{1}$$\n",
        "\n",
        "It maps the input 'z' to a value that ranges between 0 and 1, and so it can be treated as a probability.\n"
      ],
      "metadata": {
        "id": "A5iTSkQHx6I4"
      }
    },
    {
      "cell_type": "code",
      "source": [
        "def sigmoid(z):\n",
        "    '''\n",
        "    Input:\n",
        "        z: is the input (can be a scalar or an array)\n",
        "    Output:\n",
        "        h: the sigmoid of z\n",
        "    '''\n",
        "\n",
        "    # write your code here\n",
        "    return 1 / (1 + np.exp(-z))"
      ],
      "metadata": {
        "id": "WP5U6cRDyFqb",
        "ExecuteTime": {
          "end_time": "2024-09-19T17:45:15.354986Z",
          "start_time": "2024-09-19T17:45:15.346172Z"
        }
      },
      "execution_count": 26,
      "outputs": []
    },
    {
      "cell_type": "markdown",
      "source": [
        "*If you are familiar with Logistic regression, you don't need to go over this instructions. *\n",
        "\n",
        "### Logistic regression: regression and a sigmoid\n",
        "\n",
        "Logistic regression takes a regular linear regression, and applies a sigmoid to the output of the linear regression.\n",
        "\n",
        "Regression:\n",
        "$$z = \\theta_0 x_0 + \\theta_1 x_1 + \\theta_2 x_2 + ... \\theta_N x_N$$\n",
        "Note that the $\\theta$ values are \"weights\". If you took the Deep Learning Specialization, we referred to the weights with the `w` vector.  In this course, we're using a different variable $\\theta$ to refer to the weights.\n",
        "\n",
        "Logistic regression\n",
        "$$ h(z) = \\frac{1}{1+\\exp^{-z}}$$\n",
        "$$z = \\theta_0 x_0 + \\theta_1 x_1 + \\theta_2 x_2 + ... \\theta_N x_N$$\n",
        "We will refer to 'z' as the 'logits'.\n",
        "\n",
        "###  Cost function and Gradient\n",
        "\n",
        "The cost function used for logistic regression is the average of the log loss across all training examples:\n",
        "\n",
        "$$J(\\theta) = -\\frac{1}{m} \\sum_{i=1}^m y^{(i)}\\log (h(z(\\theta)^{(i)})) + (1-y^{(i)})\\log (1-h(z(\\theta)^{(i)}))\\tag{5} $$\n",
        "* $m$ is the number of training examples\n",
        "* $y^{(i)}$ is the actual label of the i-th training example.\n",
        "* $h(z(\\theta)^{(i)})$ is the model's prediction for the i-th training example.\n",
        "\n",
        "The loss function for a single training example is\n",
        "$$ Loss = -1 \\times \\left( y^{(i)}\\log (h(z(\\theta)^{(i)})) + (1-y^{(i)})\\log (1-h(z(\\theta)^{(i)})) \\right)$$\n",
        "\n",
        "* All the $h$ values are between 0 and 1, so the logs will be negative. That is the reason for the factor of -1 applied to the sum of the two loss terms.\n",
        "* Note that when the model predicts 1 ($h(z(\\theta)) = 1$) and the label $y$ is also 1, the loss for that training example is 0.\n",
        "\n",
        "### Update the weights\n",
        "\n",
        "To update your weight vector $\\theta$, you will apply gradient descent to iteratively improve your model's predictions.  \n",
        "The gradient of the cost function $J$ with respect to one of the weights $\\theta_j$ is:\n",
        "\n",
        "$$\\nabla_{\\theta_j}J(\\theta) = \\frac{1}{m} \\sum_{i=1}^m(h^{(i)}-y^{(i)})x_j \\tag{5}$$\n",
        "* 'i' is the index across all 'm' training examples.\n",
        "* 'j' is the index of the weight $\\theta_j$, so $x_j$ is the feature associated with weight $\\theta_j$\n",
        "\n",
        "* To update the weight $\\theta_j$, we adjust it by subtracting a fraction of the gradient determined by $\\alpha$:\n",
        "$$\\theta_j = \\theta_j - \\alpha \\times \\nabla_{\\theta_j}J(\\theta) $$\n",
        "* The learning rate $\\alpha$ is a value that we choose to control how big a single update will be.\n"
      ],
      "metadata": {
        "id": "Ckn5acahyKHF"
      }
    },
    {
      "cell_type": "markdown",
      "source": [
        "### Implement gradient descent function (12 points)\n",
        "\n",
        "* The number of iterations `num_iters` is the number of times that you'll use the entire training set.\n",
        "* For each iteration, you'll calculate the cost function using all training examples (there are `m` training examples), and for all features.\n",
        "* Instead of updating a single weight $\\theta_i$ at a time, we can update all the weights in the column vector:  \n",
        "$$\\mathbf{\\theta} = \\begin{pmatrix}\n",
        "\\theta_0\n",
        "\\\\\n",
        "\\theta_1\n",
        "\\\\\n",
        "\\theta_2\n",
        "\\\\\n",
        "\\vdots\n",
        "\\\\\n",
        "\\theta_n\n",
        "\\end{pmatrix}$$\n",
        "* $\\mathbf{\\theta}$ has dimensions (n+1, 1), where 'n' is the number of features, and there is one more element for the bias term $\\theta_0$ (note that the corresponding feature value $\\mathbf{x_0}$ is 1).\n",
        "* The 'logits', 'z', are calculated by multiplying the feature matrix 'x' with the weight vector 'theta'.  $z = \\mathbf{x}\\mathbf{\\theta}$\n",
        "    * $\\mathbf{x}$ has dimensions (m, n+1)\n",
        "    * $\\mathbf{\\theta}$: has dimensions (n+1, 1)\n",
        "    * $\\mathbf{z}$: has dimensions (m, 1)\n",
        "* The prediction 'h', is calculated by applying the sigmoid to each element in 'z': $h(z) = sigmoid(z)$, and has dimensions (m,1).\n",
        "* The cost function $J$ is calculated by taking the dot product of the vectors 'y' and 'log(h)'.  Since both 'y' and 'h' are column vectors (m,1), transpose the vector to the left, so that matrix multiplication of a row vector with column vector performs the dot product.\n",
        "$$J = \\frac{-1}{m} \\times \\left(\\mathbf{y}^T \\cdot log(\\mathbf{h}) + \\mathbf{(1-y)}^T \\cdot log(\\mathbf{1-h}) \\right)$$\n",
        "* The update of theta is also vectorized.  Because the dimensions of $\\mathbf{x}$ are (m, n+1), and both $\\mathbf{h}$ and $\\mathbf{y}$ are (m, 1), we need to transpose the $\\mathbf{x}$ and place it on the left in order to perform matrix multiplication, which then yields the (n+1, 1) answer we need:\n",
        "$$\\mathbf{\\theta} = \\mathbf{\\theta} - \\frac{\\alpha}{m} \\times \\left( \\mathbf{x}^T \\cdot \\left( \\mathbf{h-y} \\right) \\right)$$"
      ],
      "metadata": {
        "id": "VYaPWAXoy8E4"
      }
    },
    {
      "cell_type": "code",
      "source": [
        "def gradientDescent(x, y, theta, alpha, num_iters):\n",
        "    '''\n",
        "    Input:\n",
        "        x: matrix of features which is (m,n+1)\n",
        "        y: corresponding labels of the input matrix x, dimensions (m,1)\n",
        "        theta: weight vector of dimension (n+1,1)\n",
        "        alpha: learning rate\n",
        "        num_iters: number of iterations you want to train your model for\n",
        "    Output:\n",
        "        J: the final cost\n",
        "        theta: your final weight vector\n",
        "    Hint: you might want to print the cost to make sure that it is going down.\n",
        "    '''\n",
        "    ### Write your code here\n",
        "    m = len(y)\n",
        "    j_history = []\n",
        "\n",
        "    for t in range(1, num_iters + 1):\n",
        "      h = sigmoid(x.dot(theta))\n",
        "\n",
        "      epsilon = 1e-10\n",
        "      h = np.clip(h, epsilon, 1 - epsilon)\n",
        "\n",
        "      j = (-1/m) * (y.T.dot(np.log(h)) + (1 - y).T.dot(np.log(1-h)))\n",
        "      if np.isnan(j):\n",
        "        break\n",
        "      j_history.append(j)\n",
        "\n",
        "      gradient = (1/m) * x.T.dot(h-y)\n",
        "      theta -= alpha * gradient\n",
        "\n",
        "    return j_history[-1], theta"
      ],
      "metadata": {
        "id": "u5ylWyKIzEqs",
        "ExecuteTime": {
          "end_time": "2024-09-19T17:45:15.355859Z",
          "start_time": "2024-09-19T17:45:15.348729Z"
        }
      },
      "execution_count": 27,
      "outputs": []
    },
    {
      "cell_type": "markdown",
      "source": [
        "## C. Extracting the features (6 points)\n",
        "\n",
        "* Given a list of tweets, extract the features and store them in a matrix. You will extract two features.\n",
        "    * The first feature is the number of positive words in a tweet.\n",
        "    * The second feature is the number of negative words in a tweet.\n",
        "* Then train your logistic regression classifier on these features.\n",
        "* Test the classifier on a validation set.\n",
        "\n",
        "### Instructions: Implement the extract_features function.\n",
        "* This function takes in a single tweet.\n",
        "* Process the tweet using the imported `process_tweet()` function and save the list of tweet words.\n",
        "* Loop through each word in the list of processed words\n",
        "    * For each word, check the `freqs` dictionary for the count when that word has a positive '1' label. (Check for the key (word, 1.0)\n",
        "    * Do the same for the count for when the word is associated with the negative label '0'. (Check for the key (word, 0.0).)"
      ],
      "metadata": {
        "id": "kOW5hhOezOnu"
      }
    },
    {
      "cell_type": "code",
      "source": [
        "def extract_features(tweet, freqs):\n",
        "    '''\n",
        "    Input:\n",
        "        tweet: a list of words for one tweet\n",
        "        freqs: a dictionary corresponding to the frequencies of each tuple (word, label)\n",
        "    Output:\n",
        "        x: a feature vector of dimension (1,3)\n",
        "    '''\n",
        "\n",
        "    # process_tweet tokenizes, stems, and removes stopwords\n",
        "    word_l = process_tweet(tweet)\n",
        "\n",
        "    # 3 elements in the form of a 1 x 3 vector\n",
        "    x = np.zeros((1, 3))\n",
        "\n",
        "    #bias term is set to 1\n",
        "    x[0,0] = 1\n",
        "\n",
        "    # write your code here\n",
        "    for word in word_l:\n",
        "      pos_key = (word, 1.0)\n",
        "      neg_key = (word, 0.0)\n",
        "      x[0, 1] += freqs[pos_key] if pos_key in freqs else 0\n",
        "      x[0, 2] += freqs[neg_key] if neg_key in freqs else 0\n",
        "\n",
        "    return x"
      ],
      "metadata": {
        "id": "KosqgShlzIbD",
        "ExecuteTime": {
          "end_time": "2024-09-19T17:45:15.356718Z",
          "start_time": "2024-09-19T17:45:15.351110Z"
        }
      },
      "execution_count": 28,
      "outputs": []
    },
    {
      "cell_type": "markdown",
      "source": [
        "## D. Training Your Model (6 points)\n",
        "\n",
        "To train the model:\n",
        "* Stack the features for all training examples into a matrix `X`.\n",
        "* Call `gradientDescent`, which you've implemented above.\n",
        "* Print the cost J and final weights theta."
      ],
      "metadata": {
        "id": "ThQX8MJUzYQa"
      }
    },
    {
      "cell_type": "code",
      "outputs": [
        {
          "output_type": "stream",
          "name": "stdout",
          "text": [
            "cost [[0.04666199]]\n",
            "weights [[ 6.50024309e-05]\n",
            " [ 4.83869817e-03]\n",
            " [-5.90794918e-03]]\n"
          ]
        }
      ],
      "source": [
        "# write your code here\n",
        "m = len(train_x)\n",
        "X = np.zeros((m, 3))\n",
        "freqs = build_freqs(train_x, train_y)\n",
        "\n",
        "for i, tweet in enumerate(train_x):\n",
        "    X[i, :] = extract_features(tweet, freqs)\n",
        "\n",
        "y = train_y.reshape(-1, 1)\n",
        "theta = np.zeros((X.shape[1], 1))\n",
        "\n",
        "alpha = 0.00001\n",
        "num_iters = 1000\n",
        "j, theta = gradientDescent(X, y, theta, alpha, num_iters)\n",
        "print('cost', j)\n",
        "print('weights', theta)"
      ],
      "metadata": {
        "id": "ZeYHN8rVTfj-",
        "outputId": "ae0a9892-64c8-4fd9-be6a-de6abbf7844e",
        "colab": {
          "base_uri": "https://localhost:8080/"
        },
        "ExecuteTime": {
          "end_time": "2024-09-19T17:45:17.951639Z",
          "start_time": "2024-09-19T17:45:15.356389Z"
        }
      },
      "execution_count": 29
    },
    {
      "cell_type": "markdown",
      "source": [
        "## E. Test your model (6 points)\n",
        "\n",
        "It is time for you to test your logistic regression function on some new input that your model has not seen before.\n",
        "\n",
        "#### Instructions: Write `predict_tweet`\n",
        "Predict whether a tweet is positive or negative.\n",
        "\n",
        "* Given a tweet, process it, then extract the features.\n",
        "* Apply the model's learned weights on the features to get the logits.\n",
        "* Apply the sigmoid to the logits to get the prediction (a value between 0 and 1).\n",
        "\n",
        "$$y_{pred} = sigmoid(\\mathbf{x} \\cdot \\theta)$$"
      ],
      "metadata": {
        "id": "dZ3BTrKTziUF"
      }
    },
    {
      "cell_type": "code",
      "source": [
        "def predict_tweet(tweet, freqs, theta):\n",
        "    '''\n",
        "    Input:\n",
        "        tweet: a string\n",
        "        freqs: a dictionary corresponding to the frequencies of each tuple (word, label)\n",
        "        theta: (3,1) vector of weights\n",
        "    Output:\n",
        "        y_pred: the probability of a tweet being positive or negative\n",
        "    '''\n",
        "    # write your code here\n",
        "    x = extract_features(tweet, freqs)\n",
        "    z = np.dot(x, theta)\n",
        "    y_pred = sigmoid(z)\n",
        "    return y_pred"
      ],
      "metadata": {
        "id": "C0gsWj6ozgiT",
        "ExecuteTime": {
          "end_time": "2024-09-19T17:45:17.957810Z",
          "start_time": "2024-09-19T17:45:17.951020Z"
        }
      },
      "execution_count": 30,
      "outputs": []
    },
    {
      "cell_type": "markdown",
      "source": [
        "### Check performance using the test set\n",
        "After training your model using the training set above, check how your model might perform on real, unseen data, by testing it against the test set.\n",
        "\n",
        "#### Instructions: Implement `test_logistic_regression`\n",
        "* Given the test data and the weights of your trained model, calculate the accuracy of your logistic regression model.\n",
        "* Use your `predict_tweet()` function to make predictions on each tweet in the test set.\n",
        "* If the prediction is > 0.5, set the model's classification `y_hat` to 1, otherwise set the model's classification `y_hat` to 0.\n",
        "* A prediction is accurate when `y_hat` equals `test_y`.  Sum up all the instances when they are equal and divide by `m`."
      ],
      "metadata": {
        "id": "qfL3YpxMzxEl"
      }
    },
    {
      "cell_type": "code",
      "source": [
        "def test_logistic_regression(test_x, test_y, freqs, theta):\n",
        "    \"\"\"\n",
        "    Input:\n",
        "        test_x: a list of tweets\n",
        "        test_y: (m, 1) vector with the corresponding labels for the list of tweets\n",
        "        freqs: a dictionary with the frequency of each pair (or tuple)\n",
        "        theta: weight vector of dimension (3, 1)\n",
        "    Output:\n",
        "        accuracy: (# of tweets classified correctly) / (total # of tweets)\n",
        "    \"\"\"\n",
        "\n",
        "    # write your code here\n",
        "    m = len(test_x)\n",
        "    positive_result = 0\n",
        "\n",
        "    for i in range(m):\n",
        "      tweet = test_x[i]\n",
        "      ground_truth = test_y[i]\n",
        "\n",
        "      y_pred = predict_tweet(tweet, freqs, theta)\n",
        "      h_hat = 1 if y_pred > 0.5 else 0\n",
        "\n",
        "      if h_hat == int(ground_truth):\n",
        "        positive_result += 1\n",
        "\n",
        "    accuracy = positive_result / m\n",
        "    return accuracy"
      ],
      "metadata": {
        "id": "3U2Cht1Cz437",
        "ExecuteTime": {
          "end_time": "2024-09-19T17:45:17.962302Z",
          "start_time": "2024-09-19T17:45:17.957092Z"
        }
      },
      "execution_count": 31,
      "outputs": []
    },
    {
      "cell_type": "code",
      "source": [
        "tmp_accuracy = test_logistic_regression(test_x, test_y, freqs, theta)\n",
        "print(f\"Logistic regression model's accuracy = {tmp_accuracy:.4f}\")"
      ],
      "metadata": {
        "id": "GwaUhFDlz8wg",
        "outputId": "36ed9354-874b-48bc-b208-0a6771e028ae",
        "colab": {
          "base_uri": "https://localhost:8080/"
        },
        "ExecuteTime": {
          "end_time": "2024-09-19T17:45:18.371632Z",
          "start_time": "2024-09-19T17:45:17.962392Z"
        }
      },
      "execution_count": 32,
      "outputs": [
        {
          "output_type": "stream",
          "name": "stderr",
          "text": [
            "<ipython-input-31-eb9f7ee0c150>:23: DeprecationWarning: Conversion of an array with ndim > 0 to a scalar is deprecated, and will error in future. Ensure you extract a single element from your array before performing this operation. (Deprecated NumPy 1.25.)\n",
            "  if h_hat == int(ground_truth):\n"
          ]
        },
        {
          "output_type": "stream",
          "name": "stdout",
          "text": [
            "Logistic regression model's accuracy = 0.9885\n"
          ]
        }
      ]
    },
    {
      "cell_type": "markdown",
      "source": [
        "#Part 3. Word Embeddings (30 points)"
      ],
      "metadata": {
        "id": "snPTf5W90sdC"
      }
    },
    {
      "cell_type": "markdown",
      "source": [
        "In this question, you will implement cosine similarities from scratch and solve some word analogy problems with pre-trained word vectors."
      ],
      "metadata": {
        "id": "qujKDYlzgG8V"
      }
    },
    {
      "cell_type": "markdown",
      "source": [
        "## A. Load Pre-trained GloVe Word Vectors with Gensim (0 points)\n",
        "\n",
        "- Gensim is a package that implements the word2vec family of algorithms. Here, we use it to load a pre-trained word vectors named GloVe ([Pennington et al. 2014](https://aclanthology.org/D14-1162/)). Please follow the instructions below.\n",
        "- See more about the Gensim API here: https://radimrehurek.com/gensim/models/word2vec.html"
      ],
      "metadata": {
        "id": "Y-RqYJcv05rP"
      }
    },
    {
      "cell_type": "code",
      "source": [
        "!pip install gensim"
      ],
      "metadata": {
        "colab": {
          "base_uri": "https://localhost:8080/"
        },
        "id": "ZoQgPZiL0yG1",
        "outputId": "05f6be6c-4491-4301-f411-9f2f8e3eaf70",
        "ExecuteTime": {
          "end_time": "2024-09-19T17:45:20.634720Z",
          "start_time": "2024-09-19T17:45:18.371802Z"
        }
      },
      "execution_count": 33,
      "outputs": [
        {
          "output_type": "stream",
          "name": "stdout",
          "text": [
            "Requirement already satisfied: gensim in /usr/local/lib/python3.10/dist-packages (4.3.3)\n",
            "Requirement already satisfied: numpy<2.0,>=1.18.5 in /usr/local/lib/python3.10/dist-packages (from gensim) (1.26.4)\n",
            "Requirement already satisfied: scipy<1.14.0,>=1.7.0 in /usr/local/lib/python3.10/dist-packages (from gensim) (1.13.1)\n",
            "Requirement already satisfied: smart-open>=1.8.1 in /usr/local/lib/python3.10/dist-packages (from gensim) (7.0.4)\n",
            "Requirement already satisfied: wrapt in /usr/local/lib/python3.10/dist-packages (from smart-open>=1.8.1->gensim) (1.16.0)\n"
          ]
        }
      ]
    },
    {
      "cell_type": "code",
      "source": [
        "import gensim.downloader\n",
        "import numpy as np"
      ],
      "metadata": {
        "id": "k1-WXnpN03RC",
        "ExecuteTime": {
          "end_time": "2024-09-19T17:45:20.686968Z",
          "start_time": "2024-09-19T17:45:20.635527Z"
        }
      },
      "execution_count": 34,
      "outputs": []
    },
    {
      "cell_type": "code",
      "source": [
        "glove_vectors = gensim.downloader.load('glove-wiki-gigaword-50')"
      ],
      "metadata": {
        "id": "WKEQ0svQ0_bu",
        "ExecuteTime": {
          "end_time": "2024-09-19T17:45:26.748243Z",
          "start_time": "2024-09-19T17:45:20.687229Z"
        }
      },
      "execution_count": 35,
      "outputs": []
    },
    {
      "cell_type": "code",
      "source": [
        "print('data type:', type(glove_vectors.vectors))\n",
        "print('# words:', glove_vectors.vectors.shape[0])\n",
        "print('Embedding dimension:', glove_vectors.vectors.shape[1])"
      ],
      "metadata": {
        "colab": {
          "base_uri": "https://localhost:8080/"
        },
        "id": "Emb5Z-y61Bb5",
        "outputId": "a1c8ae39-b1ad-40aa-baf9-5094eb5629dc",
        "ExecuteTime": {
          "end_time": "2024-09-19T17:45:26.751231Z",
          "start_time": "2024-09-19T17:45:26.748617Z"
        }
      },
      "execution_count": 36,
      "outputs": [
        {
          "output_type": "stream",
          "name": "stdout",
          "text": [
            "data type: <class 'numpy.ndarray'>\n",
            "# words: 400000\n",
            "Embedding dimension: 50\n"
          ]
        }
      ]
    },
    {
      "cell_type": "markdown",
      "source": [
        "## B. Given a query word, find the top 10 words in the vocabulary that have the highest cosine similarity scores (10 points)"
      ],
      "metadata": {
        "id": "ZduEu4W61Lvq"
      }
    },
    {
      "cell_type": "code",
      "source": [
        "glove_vectors.most_similar('cat', topn=10)"
      ],
      "metadata": {
        "colab": {
          "base_uri": "https://localhost:8080/"
        },
        "id": "u4E-tYXy1Jly",
        "outputId": "5f451c00-b140-4ae3-9c7b-3e7d82117220",
        "ExecuteTime": {
          "end_time": "2024-09-19T17:45:26.807076Z",
          "start_time": "2024-09-19T17:45:26.751065Z"
        }
      },
      "execution_count": 37,
      "outputs": [
        {
          "output_type": "execute_result",
          "data": {
            "text/plain": [
              "[('dog', 0.9218006134033203),\n",
              " ('rabbit', 0.8487821221351624),\n",
              " ('monkey', 0.8041081428527832),\n",
              " ('rat', 0.7891963124275208),\n",
              " ('cats', 0.7865270972251892),\n",
              " ('snake', 0.7798910737037659),\n",
              " ('dogs', 0.7795814871788025),\n",
              " ('pet', 0.7792249917984009),\n",
              " ('mouse', 0.773166835308075),\n",
              " ('bite', 0.7728800177574158)]"
            ]
          },
          "metadata": {},
          "execution_count": 37
        }
      ]
    },
    {
      "cell_type": "markdown",
      "source": [
        "## You need to implement `my_most_similar()` that will do the same thing as the built-in `most_similar()` function above\n",
        "- cosine similarity: $\\frac{v_1 \\cdot v_2}{\\lVert v_1 \\rVert \\lVert v_2 \\rVert}$\n",
        "- $\\lVert v_1 \\rVert$ means the vector norm of $v_1$\n",
        "- We have a vocabulary of 400000 words. You should calculate the cosine similarity between `vec(query_word)` and `vec(any other words)`.\n",
        "- Find the top 10 words that have the highest cosine similarity with the query word.\n",
        "- Return a list of tuple, where each tuple contains a word (str) and its corresponding cosine similarity score (float) to the query word.\n",
        "- The following functions are the only built-in functions you are allowed to use for all the questions in Part 3:\n",
        "  - `glove_vectors.get_index()`, `glove_vectors.get_vector()`, `glove_vectors.index_to_key` (See how to use these functions below.)\n",
        "  - `np.dot()`, `np.sum()`, `np.argsort(), np.transpose()`\n",
        "- Hint: Do **not** include the query word itself in the top 10 words\n",
        "- Hint: To implement $\\sqrt{N}$, you can do `N**0.5`"
      ],
      "metadata": {
        "id": "b2CvdJZ41RcJ"
      }
    },
    {
      "cell_type": "code",
      "source": [
        "glove_vectors.get_index('apple') # get the index of a word in the vocabulary"
      ],
      "metadata": {
        "id": "IsWUyrr-nb4l",
        "outputId": "8c2e6412-da1a-4b0c-c149-af2c44ff9865",
        "colab": {
          "base_uri": "https://localhost:8080/"
        },
        "ExecuteTime": {
          "end_time": "2024-09-19T17:45:26.826698Z",
          "start_time": "2024-09-19T17:45:26.805839Z"
        }
      },
      "execution_count": 38,
      "outputs": [
        {
          "output_type": "execute_result",
          "data": {
            "text/plain": [
              "3292"
            ]
          },
          "metadata": {},
          "execution_count": 38
        }
      ]
    },
    {
      "cell_type": "code",
      "source": [
        "glove_vectors.index_to_key[3292] # index to word"
      ],
      "metadata": {
        "id": "Jg5oUogSneB7",
        "outputId": "fd8086aa-e255-47be-bd37-5eff31b42d36",
        "colab": {
          "base_uri": "https://localhost:8080/",
          "height": 35
        },
        "ExecuteTime": {
          "end_time": "2024-09-19T17:45:26.827836Z",
          "start_time": "2024-09-19T17:45:26.811019Z"
        }
      },
      "execution_count": 39,
      "outputs": [
        {
          "output_type": "execute_result",
          "data": {
            "text/plain": [
              "'apple'"
            ],
            "application/vnd.google.colaboratory.intrinsic+json": {
              "type": "string"
            }
          },
          "metadata": {},
          "execution_count": 39
        }
      ]
    },
    {
      "cell_type": "code",
      "source": [
        "glove_vectors.get_vector(word) # get the word vector of a word"
      ],
      "metadata": {
        "id": "_vkbFKQ2nfuN",
        "outputId": "02e17c47-989e-420f-8fa2-d88711658e02",
        "colab": {
          "base_uri": "https://localhost:8080/",
          "height": 141
        },
        "ExecuteTime": {
          "end_time": "2024-09-19T17:45:27.139349Z",
          "start_time": "2024-09-19T17:45:26.816516Z"
        }
      },
      "execution_count": 40,
      "outputs": [
        {
          "output_type": "error",
          "ename": "NameError",
          "evalue": "name 'word' is not defined",
          "traceback": [
            "\u001b[0;31m---------------------------------------------------------------------------\u001b[0m",
            "\u001b[0;31mNameError\u001b[0m                                 Traceback (most recent call last)",
            "\u001b[0;32m<ipython-input-40-a7049a1a631d>\u001b[0m in \u001b[0;36m<cell line: 1>\u001b[0;34m()\u001b[0m\n\u001b[0;32m----> 1\u001b[0;31m \u001b[0mglove_vectors\u001b[0m\u001b[0;34m.\u001b[0m\u001b[0mget_vector\u001b[0m\u001b[0;34m(\u001b[0m\u001b[0mword\u001b[0m\u001b[0;34m)\u001b[0m \u001b[0;31m# get the word vector of a word\u001b[0m\u001b[0;34m\u001b[0m\u001b[0;34m\u001b[0m\u001b[0m\n\u001b[0m",
            "\u001b[0;31mNameError\u001b[0m: name 'word' is not defined"
          ]
        }
      ]
    },
    {
      "cell_type": "code",
      "outputs": [],
      "source": [
        "def my_most_similar(glove_vectors, query_word, topn):\n",
        "    \"\"\"\n",
        "    Find the most similar words to a given query word based on cosine similarity in the GloVe embedding space.\n",
        "\n",
        "    Args:\n",
        "        glove_vectors (Gensim KeyedVectors)\n",
        "        query_word (str): The word for which to find the most similar words.\n",
        "        topn (int): The number of most similar words to return.\n",
        "\n",
        "    Returns:\n",
        "        list of tuples:\n",
        "            - Each tuple contains a word (str) and its corresponding cosine similarity score (float) to the query word.\n",
        "            - The list is sorted in descending order of cosine similarity.\n",
        "    \"\"\"\n",
        "    # W (numpy.ndarray): glove word embeddings of shape (400000, 50)\n",
        "    W = glove_vectors.vectors\n",
        "\n",
        "    # Your code here\n",
        "    def normalize(X):\n",
        "        squared_sums = np.sum(X * X, axis=1) if X.ndim > 1 else np.sum(X * X)\n",
        "        norms = squared_sums ** 0.5\n",
        "        return norms\n",
        "\n",
        "    query_vector = glove_vectors.get_vector(query_word)\n",
        "    query_idx = glove_vectors.get_index(query_word)\n",
        "\n",
        "    dot_product = np.dot(W, query_vector)\n",
        "    W_norm = normalize(W)\n",
        "    query_vector_norm = normalize(query_vector)\n",
        "    cosine_similarities = dot_product / (W_norm * query_vector_norm)\n",
        "    most_similar_indices = np.argsort(-cosine_similarities)\n",
        "\n",
        "    my_list = [(glove_vectors.index_to_key[i], cosine_similarities[i])\n",
        "               for i in most_similar_indices if i != query_idx][:topn]\n",
        "\n",
        "    assert len(my_list) == topn\n",
        "    return my_list"
      ],
      "metadata": {
        "id": "XlfhQApjTfj_",
        "ExecuteTime": {
          "end_time": "2024-09-19T17:45:38.385968Z",
          "start_time": "2024-09-19T17:45:38.373760Z"
        }
      },
      "execution_count": 41
    },
    {
      "cell_type": "markdown",
      "source": [
        "## C. What are the highest and lowest vector norms among all the word vectors? Answer with two values. (4 points)"
      ],
      "metadata": {
        "collapsed": false,
        "id": "-qCUYQjATfj_"
      }
    },
    {
      "cell_type": "code",
      "outputs": [
        {
          "output_type": "stream",
          "name": "stdout",
          "text": [
            "max_vector_norm: 14.122, min_vector_norm: 0.047\n"
          ]
        }
      ],
      "source": [
        "#Your code here\n",
        "W = glove_vectors.vectors\n",
        "def normalize(X):\n",
        "    squared_sums = np.sum(X * X, axis = 1)\n",
        "    norms = squared_sums ** 0.5\n",
        "    return norms\n",
        "\n",
        "norms = normalize(W)\n",
        "max_vector_norm = -float('inf')\n",
        "min_vector_norm = float('inf')\n",
        "for norm in norms:\n",
        "    if norm > max_vector_norm:\n",
        "        max_vector_norm = norm\n",
        "    if norm < min_vector_norm:\n",
        "        min_vector_norm = norm\n",
        "\n",
        "print(f'max_vector_norm: {max_vector_norm:.3f}, min_vector_norm: {min_vector_norm:.3f}')"
      ],
      "metadata": {
        "id": "9IkE2tLFTfj_",
        "outputId": "d1cd733c-f0c3-4b5a-f56c-ee602c0b7d7b",
        "colab": {
          "base_uri": "https://localhost:8080/"
        },
        "ExecuteTime": {
          "end_time": "2024-09-19T17:45:39.172332Z",
          "start_time": "2024-09-19T17:45:39.122623Z"
        }
      },
      "execution_count": 42
    },
    {
      "cell_type": "markdown",
      "source": [
        "## D. Why is cosine similarity better than dot product when calculating similarities between word vectors? (3 points)"
      ],
      "metadata": {
        "collapsed": false,
        "id": "kkUZwq89Tfj_"
      }
    },
    {
      "cell_type": "markdown",
      "source": [
        "Cosine similarity is better than dot product when calculating similarities between word vectors because it measures the angle between vectors, rather than their magnitudes. This makes it more effective at comparing vectors of different lengths, as it focuses on the direction of the vectors, not their size. In contrast, the dot product is influenced by both the direction and magnitude, which can distort the comparison, especially when dealing with documents of varying word counts."
      ],
      "metadata": {
        "collapsed": false,
        "id": "owb-FCMETfj_"
      }
    },
    {
      "cell_type": "markdown",
      "source": [
        "## Your implementation of `my_most_similar()` should pass the test cases below"
      ],
      "metadata": {
        "collapsed": false,
        "id": "haMPWNYATfj_"
      }
    },
    {
      "cell_type": "code",
      "source": [
        "def diff_results(oracle_list, my_list):\n",
        "  for oracle, mine in zip(oracle_list, my_list):\n",
        "    assert oracle[0] == mine[0], \"find the wrong word\"\n",
        "    assert np.isclose(oracle[1], mine[1]), \"wrong consine similarity\"\n",
        "\n",
        "for query in ['computer', 'frog', 'car']:\n",
        "  oracle_list = glove_vectors.most_similar(query, topn=10)\n",
        "  my_list = my_most_similar(glove_vectors, query, topn=10)\n",
        "  diff_results(oracle_list, my_list)"
      ],
      "metadata": {
        "id": "r4Yi1lWK1c4X",
        "ExecuteTime": {
          "end_time": "2024-09-19T17:45:40.776618Z",
          "start_time": "2024-09-19T17:45:39.909367Z"
        }
      },
      "execution_count": 43,
      "outputs": []
    },
    {
      "cell_type": "markdown",
      "source": [
        "## E. We visualize the word embeddings with PCA below. What do you see in the figure? (3 points)\n",
        "- Hint: Each dot corresponds to a word vector. Do you observe any meaningful direction between related words?\n",
        "- You do not need to write any code in this question"
      ],
      "metadata": {
        "id": "dD41_iZH2EYw"
      }
    },
    {
      "cell_type": "code",
      "source": [
        "from sklearn.decomposition import PCA\n",
        "pca = PCA(n_components=2)\n",
        "Z = pca.fit_transform(glove_vectors.vectors)"
      ],
      "metadata": {
        "id": "kSAPfG3L19kM",
        "ExecuteTime": {
          "end_time": "2024-09-19T17:45:46.333005Z",
          "start_time": "2024-09-19T17:45:40.775792Z"
        }
      },
      "execution_count": 44,
      "outputs": []
    },
    {
      "cell_type": "code",
      "source": [
        "import matplotlib.pyplot as plt\n",
        "plt.figure(figsize=(10,5))\n",
        "for word in ['king', 'queen', 'lord', 'lady', 'prince', 'princess', 'men', 'women']:\n",
        "  point = Z[glove_vectors.get_index(word)]\n",
        "  plt.scatter(point[0], point[1], color='b')\n",
        "  plt.annotate(word, (point[0], point[1]))\n",
        "  plt.xticks([])\n",
        "  plt.yticks([])"
      ],
      "metadata": {
        "colab": {
          "base_uri": "https://localhost:8080/",
          "height": 422
        },
        "id": "0Jxt-2hc2H8r",
        "outputId": "15e5a404-5055-494d-841d-d459ec332d6d",
        "ExecuteTime": {
          "end_time": "2024-09-19T17:45:46.647977Z",
          "start_time": "2024-09-19T17:45:46.348652Z"
        }
      },
      "execution_count": 45,
      "outputs": [
        {
          "output_type": "display_data",
          "data": {
            "text/plain": [
              "<Figure size 1000x500 with 1 Axes>"
            ],
            "image/png": "[encoded data removed]"
          },
          "metadata": {}
        }
      ]
    },
    {
      "cell_type": "markdown",
      "source": [
        "I observe that words typically associated with males, such as ‘king’, ‘prince’, and ‘lord’, are clustered in the top-left of the plot, while female-associated words, like ‘lady’, ‘princess’, and ‘queen’, are grouped together in the bottom-left. Also, word pairs that represent gender counterparts, such as ‘king’ and ‘queen’ or ‘prince’ and ‘princess’ or ‘lord’ and ‘lady’, are positioned somewhat opposite to each other along the y-axis, reflecting their opposing yet related meanings."
      ],
      "metadata": {
        "id": "gUyMqZ9v51HY"
      }
    },
    {
      "cell_type": "markdown",
      "source": [
        "## F. Word Analogy: prince is to princess as lord is to? (10 points)\n",
        "  - word1: `prince`, word2: `princess`, word3: `lord`\n",
        "  - `direction = vec(word2) - vec(word1)`\n",
        "  - `vec_tgt = vec(word3) + direction`\n",
        "  - Calcuate the cosine similarities between `vec_tgt` and all the words in the vocabulary, **except for word3**.\n",
        "  - Return the word that has the highest cosine similarity score."
      ],
      "metadata": {
        "id": "t9crJ6Dx3MCz"
      }
    },
    {
      "cell_type": "code",
      "source": [
        "def word_analogy(glove_vectors, word1, word2, word3):\n",
        "    \"\"\"\n",
        "    Args:\n",
        "        glove_vectors (Gensim KeyedVectors)\n",
        "        word1 (str): The first word in the analogy.\n",
        "        word2 (str): The second word in the analogy.\n",
        "        word3 (str): The third word in the analogy for which to find the analogous word.\n",
        "\n",
        "    Returns:\n",
        "        pred_word (str): The word that best completes the analogy.\n",
        "    \"\"\"\n",
        "\n",
        "    # Your code here\n",
        "    def normalize(X):\n",
        "        squared_sums = np.sum(X * X, axis=1) if X.ndim > 1 else np.sum(X * X)\n",
        "        norms = squared_sums ** 0.5\n",
        "        return norms\n",
        "\n",
        "    v1, v2, v3 = glove_vectors.get_vector(word1), glove_vectors.get_vector(word2), glove_vectors.get_vector(word3)\n",
        "    vec_tgt = v2 - v1 + v3\n",
        "\n",
        "    W = glove_vectors.vectors\n",
        "    dot_product = np.dot(W, vec_tgt)\n",
        "    W_norm = normalize(W)\n",
        "    query_vector_norm = normalize(vec_tgt)\n",
        "    cosine_similarities = dot_product / (W_norm * query_vector_norm)\n",
        "\n",
        "    indx_word3 = glove_vectors.get_index(word3)\n",
        "    indx_highest_similarity = np.argsort([cosine_similarities[i] if i != indx_word3 else -np.inf for i in range(len(cosine_similarities))])[-1]\n",
        "\n",
        "    pred_word = glove_vectors.index_to_key[indx_highest_similarity]\n",
        "\n",
        "    print(f'{word1} is to {word2} as {word3} is to? {pred_word}')\n",
        "    assert pred_word != word3\n",
        "    return pred_word"
      ],
      "metadata": {
        "id": "i51kuBJr3UW0",
        "ExecuteTime": {
          "end_time": "2024-09-19T17:45:51.298220Z",
          "start_time": "2024-09-19T17:45:51.278067Z"
        }
      },
      "execution_count": 46,
      "outputs": []
    },
    {
      "cell_type": "code",
      "source": [
        "pred_word = word_analogy(glove_vectors, 'prince', 'princess', 'lord')\n",
        "pred_word = word_analogy(glove_vectors, 'aunt', 'uncle', 'queen')\n",
        "pred_word = word_analogy(glove_vectors, 'london', 'england', 'paris')\n",
        "pred_word = word_analogy(glove_vectors, 'cat', 'cats', 'car')"
      ],
      "metadata": {
        "id": "y1e-zPgb9Gul",
        "outputId": "1d0e9264-04a2-40fc-e761-1eedaee80014",
        "colab": {
          "base_uri": "https://localhost:8080/"
        },
        "ExecuteTime": {
          "end_time": "2024-09-19T17:45:52.835551Z",
          "start_time": "2024-09-19T17:45:51.928371Z"
        }
      },
      "execution_count": 47,
      "outputs": [
        {
          "output_type": "stream",
          "name": "stdout",
          "text": [
            "prince is to princess as lord is to? lady\n",
            "aunt is to uncle as queen is to? king\n",
            "london is to england as paris is to? france\n",
            "cat is to cats as car is to? cars\n"
          ]
        }
      ]
    }
  ]
}